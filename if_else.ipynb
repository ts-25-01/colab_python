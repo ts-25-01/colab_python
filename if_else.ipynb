{
  "nbformat": 4,
  "nbformat_minor": 0,
  "metadata": {
    "colab": {
      "provenance": [],
      "authorship_tag": "ABX9TyMVZe7bHcO0ijwYEzolMQGw",
      "include_colab_link": true
    },
    "kernelspec": {
      "name": "python3",
      "display_name": "Python 3"
    },
    "language_info": {
      "name": "python"
    }
  },
  "cells": [
    {
      "cell_type": "markdown",
      "metadata": {
        "id": "view-in-github",
        "colab_type": "text"
      },
      "source": [
        "<a href=\"https://colab.research.google.com/github/ts-25-01/colab_python/blob/main/if_else.ipynb\" target=\"_parent\"><img src=\"https://colab.research.google.com/assets/colab-badge.svg\" alt=\"Open In Colab\"/></a>"
      ]
    },
    {
      "cell_type": "markdown",
      "source": [
        "## Aufgaben für if-else-Verzweigungen\n",
        "\n",
        "\n",
        "1.  Schreibe ein Programm, das eine Zahl überprüft: Wenn die Zahl negativ ist, gib \"Negativ\" aus, wenn 0 gib \"Null\" aus, wenn positiv, dann \"Positiv\"\n",
        "2.   Erstelle eine if-elif-else-Struktur, die eine Temperatur bewertet: Bei unter 0 Grad: \"Sehr kalt\", bei 0-10 Grad: \"Kalt\", bei 11-20 Grad: \"Mild\", bei 21-30 Grad: \"Warm\", bei über 30 Grad: \"Heiß\""
      ],
      "metadata": {
        "id": "abi1Aq6Pt7im"
      }
    }
  ]
}