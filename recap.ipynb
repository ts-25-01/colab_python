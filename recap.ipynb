{
  "nbformat": 4,
  "nbformat_minor": 0,
  "metadata": {
    "colab": {
      "provenance": [],
      "authorship_tag": "ABX9TyOhVUpgQYSmZwYTYoO5w6ba",
      "include_colab_link": true
    },
    "kernelspec": {
      "name": "python3",
      "display_name": "Python 3"
    },
    "language_info": {
      "name": "python"
    }
  },
  "cells": [
    {
      "cell_type": "markdown",
      "metadata": {
        "id": "view-in-github",
        "colab_type": "text"
      },
      "source": [
        "<a href=\"https://colab.research.google.com/github/ts-25-01/colab_python/blob/main/recap.ipynb\" target=\"_parent\"><img src=\"https://colab.research.google.com/assets/colab-badge.svg\" alt=\"Open In Colab\"/></a>"
      ]
    },
    {
      "cell_type": "markdown",
      "source": [
        "# Willkommen in Google Colab!\n",
        " In Google Colab kannst du Code direkt ausführen und mit den Ergebnissen interaktiv arbeiten.\n",
        "Probier es aus, indem du auf \"Play\" neben der Zelle klickst oder Shift+Enter drückst!\n",
        "\n",
        "Nimm dieses Notebook und füge deinen Code hinzu an den passenden Stellen. Abgabe: Gehe oben links auf Datei, dann auf Herunterladen, dann auf .ipynb. Dann startet ein Download des Notebooks. Diese heruntergeladene Datei fügst du bitte als Abgabe in den Classroom ein.\n"
      ],
      "metadata": {
        "id": "P5_Z397OqQRc"
      }
    },
    {
      "cell_type": "markdown",
      "source": [
        "# Teil 1: ,,eintippen\"\n",
        "\n",
        "So wie jede/r gute Musiker/in zu Beginn das eigene Instrument mit kleinen Fingerübungen einspielt, bevor das aktuelle Stück eingeübt wird, so werden wir uns ein wenig ins Coden ,,eintippen\""
      ],
      "metadata": {
        "id": "QOrrFrQp3fey"
      }
    },
    {
      "cell_type": "markdown",
      "source": [
        "## 1. Print-Befehl - Text ausgeben\n",
        " Der print-Befehl wird verwendet, um Text auf dem Bildschirm auszugeben."
      ],
      "metadata": {
        "id": "x6a2Gj5Gq4oR"
      }
    },
    {
      "cell_type": "markdown",
      "source": [
        "Hier wird \"Hallo, Welt!\" auf dem Bildschirm angezeigt.\n",
        "Probier es aus, indem du auf Play drückst"
      ],
      "metadata": {
        "id": "GcKAxpB2rFaw"
      }
    },
    {
      "cell_type": "code",
      "source": [
        "print(\"Hallo, Welt!\")"
      ],
      "metadata": {
        "id": "PLzIe2PiqcEE"
      },
      "execution_count": null,
      "outputs": []
    },
    {
      "cell_type": "markdown",
      "source": [
        "Super, lass uns noch etwas weitergehen\n",
        "\n",
        "Wenn du den Text ohne Anführungszeichen schreibst, bekommst du einen Fehler.\n",
        "Dies führt zu einem Fehler! Versuche es mal selbst, wenn du es nicht glaubst."
      ],
      "metadata": {
        "id": "orTpZfLVrPZ8"
      }
    },
    {
      "cell_type": "code",
      "source": [
        " print(Hi there!)"
      ],
      "metadata": {
        "id": "sHkJujvorY9O"
      },
      "execution_count": null,
      "outputs": []
    },
    {
      "cell_type": "markdown",
      "source": [
        "## 2. Programmierübung: Emoticon\n",
        "Dein Ziel ist es, ein Emoticon auszugeben: :-).\n",
        "Schreibe den Python-Code, um das Emoticon korrekt auszugeben."
      ],
      "metadata": {
        "id": "boElnUk3rmE-"
      }
    },
    {
      "cell_type": "code",
      "source": [
        "# Hier kommt dein Code"
      ],
      "metadata": {
        "id": "vzNGVexZrpCC"
      },
      "execution_count": null,
      "outputs": []
    },
    {
      "cell_type": "markdown",
      "source": [
        "## 3. Mehrere Befehle hintereinander ausführen\n",
        " Mehrere Befehle können hintereinander ausgeführt werden, um mehrere Zeilen auszugeben.\n",
        "Beispiel:"
      ],
      "metadata": {
        "id": "Cke_GA_-ryg7"
      }
    },
    {
      "cell_type": "code",
      "source": [
        "print(\"Willkommen in der Einführung in die Programmierung!\")\n",
        "print(\"Wir üben heute den Einsatz des Print-Befehls.\")\n",
        "print(\"Dieses Programm gibt drei Zeilen Text aus.\")"
      ],
      "metadata": {
        "id": "MMlK5MCtr9JD"
      },
      "execution_count": null,
      "outputs": []
    },
    {
      "cell_type": "markdown",
      "source": [
        "## 4. Programmierübung: Fixe den Code: Hogwarts-Schüler\n",
        "In dieser Übung möchtest du die Namen der Hogwarts-Schüler in alphabetischer Reihenfolge ausgeben.\n",
        "Der folgende Code soll die Namen der Schüler aus der Harry-Potter-Reihe ausgeben, aber der Code funktioniert nicht ganz richtig.\n",
        "Dein Ziel ist es, den Code so zu ändern, dass die Namen in alphabetischer Reihenfolge erscheinen.\n",
        "\n",
        "Falsche Ausgabe (hier ist der Fehler):\n",
        "\n",
        "```\n",
        "print(\"Harry Potter\")\n",
        "print(\"Hermione Granger\")\n",
        "print(\"Ron Weasley\")\n",
        "print(\"Draco Malfoy\")\n",
        "print(\"Neville Longbottom\")\n",
        "print(\"Luna Lovegood\")\n",
        "print(\"Ginny Weasley\")\n",
        "```\n",
        "\n",
        "\n",
        "\n"
      ],
      "metadata": {
        "id": "XGcF2s9osSGn"
      }
    },
    {
      "cell_type": "code",
      "source": [
        "# Deine Lösung hier:\n",
        "# Sortiere die Namen alphabetisch!"
      ],
      "metadata": {
        "id": "IvmyT7jXscAo"
      },
      "execution_count": null,
      "outputs": []
    },
    {
      "cell_type": "markdown",
      "source": [
        "## 5. Programmierübung: Der Erlkönig\n",
        "Schreibe ein Programm, das genau die folgenden Zeilen ausgibt:\n",
        "\n",
        "```\n",
        "Wer reitet so spät durch Nacht und Wind?\n",
        "Es ist der Vater mit seinem Kind;\n",
        "Er hat den Knaben wohl in dem Arm,\n",
        "Er fasst ihn sicher, er hält ihn warm.\n",
        "```\n",
        "\n"
      ],
      "metadata": {
        "id": "b2gGmNClsmsY"
      }
    },
    {
      "cell_type": "code",
      "source": [
        "# Deine Lösung hier:"
      ],
      "metadata": {
        "id": "Y8Tx7JUotHeJ"
      },
      "execution_count": null,
      "outputs": []
    },
    {
      "cell_type": "markdown",
      "source": [
        "## 6. Arithmetische Operationen\n",
        "\n",
        "Du kannst auch arithmetische Operationen innerhalb des Print-Befehls ausführen.\n",
        "Zum Beispiel:\n"
      ],
      "metadata": {
        "id": "5SxP2BnAtJLn"
      }
    },
    {
      "cell_type": "code",
      "source": [
        "print(2 + 5)   # Addition\n",
        "print(3 * 3)   # Multiplikation\n",
        "print(2 + 2 * 10)  # Punkt-vor-Strich-Rechnung"
      ],
      "metadata": {
        "id": "yjDbnhk1tUNO"
      },
      "execution_count": null,
      "outputs": []
    },
    {
      "cell_type": "markdown",
      "source": [
        "### Hinweis: Achte darauf, dass keine Anführungszeichen um die arithmetischen Operationen gesetzt werden.\n",
        "Arithmetische Operationen werden anders behandelt als Strings."
      ],
      "metadata": {
        "id": "TCSUw6IUtZJ7"
      }
    },
    {
      "cell_type": "code",
      "source": [
        "# Beispiel mit und ohne Anführungszeichen:\n",
        "print(2 + 2 * 10)  # Berechnet den Wert\n",
        "print(\"2 + 2 * 10\")  # Gibt den Ausdruck als Text aus, ohne ihn zu berechnen"
      ],
      "metadata": {
        "id": "g56iHTSrtdJe"
      },
      "execution_count": null,
      "outputs": []
    },
    {
      "cell_type": "markdown",
      "source": [
        "## 7. Kommentare\n",
        "Jede Zeile, die mit einem # beginnt, ist ein Kommentar und wird vom Programm ignoriert.\n"
      ],
      "metadata": {
        "id": "cj0hzl-ptf4a"
      }
    },
    {
      "cell_type": "code",
      "source": [
        "# Kommentare helfen, den Code zu erklären und für andere verständlich zu machen.\n",
        "print(\"Stunden im Jahr:\")\n",
        "# In einem Jahr gibt es 365 Tage und 24 Stunden an jedem Tag.\n",
        "print(365 * 24)"
      ],
      "metadata": {
        "id": "6yyDsxEXtj4a"
      },
      "execution_count": null,
      "outputs": []
    },
    {
      "cell_type": "markdown",
      "source": [
        "## 8. Programmierübung: Minuten im Jahr\n",
        " Schreibe ein Programm, das die Anzahl der Minuten in einem Jahr berechnet.\n",
        " Tipp: Multipliziere 365 Tage mit 24 Stunden und 60 Minuten pro Stunde.\n"
      ],
      "metadata": {
        "id": "h-CVgk8AtnAp"
      }
    },
    {
      "cell_type": "code",
      "source": [
        "\n",
        "# Deine Lösung hier:"
      ],
      "metadata": {
        "id": "4nK984tztrMz"
      },
      "execution_count": null,
      "outputs": []
    },
    {
      "cell_type": "markdown",
      "source": [
        "---\n",
        "\n",
        "# Teil 2: es geht weiter\n",
        "\n",
        "### 3. Input - Eingabe"
      ],
      "metadata": {
        "id": "ALwdD9mmuuy4"
      }
    },
    {
      "cell_type": "markdown",
      "source": [
        "**Eingabe** bezieht sich auf alle Informationen, die ein Benutzer dem Programm gibt. Insbesondere `input` liest der Python-Befehl eine vom Benutzer eingegebene Eingabezeile ein. Er kann auch verwendet werden, um dem Benutzer eine Nachricht anzuzeigen, um ihn zur Eingabe einer bestimmten Eingabe aufzufordern.\n",
        "\n",
        "Das folgende Programm liest den Namen des Benutzers mit dem inputBefehl ein. Anschließend druckt es ihn mit dem printBefehl aus:"
      ],
      "metadata": {
        "id": "CgwJR7vO4Jzc"
      }
    },
    {
      "cell_type": "code",
      "source": [
        "name = input(\"Wie lautet dein Name? \")\n",
        "print(\"Halli Hallo, \" + name)"
      ],
      "metadata": {
        "id": "GHM5UYIo4iZ0"
      },
      "execution_count": null,
      "outputs": []
    },
    {
      "cell_type": "markdown",
      "source": [
        "Das Wort `name `in diesem Programm ist eine Variable . Im Kontext der Programmierung ist eine **Variable** ein Ort zum Speichern eines Wertes , beispielsweise einer Zeichenfolge oder einer Zahl. Dieser Wert kann später verwendet und auch geändert werden.\n",
        "\n",
        "Es ist eine gängige internationale Programmierpraxis, Variablen auf Englisch zu benennen. Der Name der Variable hat keine direkte Auswirkung auf ihren Inhalt, daher ist der Name in diesem Sinne nicht wichtig. Es kann jedoch oft hilfreich sein, die Funktionsweise von Code zu verstehen, wenn Variablen logisch und auf Englisch benannt sind."
      ],
      "metadata": {
        "id": "8FXHOoQe4xWQ"
      }
    },
    {
      "cell_type": "markdown",
      "source": [
        "Auf eine einzelne Variable kann in einem Programm viele Male verwiesen werden:\n",
        "\n"
      ],
      "metadata": {
        "id": "SESV7n4P5CVJ"
      }
    },
    {
      "cell_type": "code",
      "source": [
        "name = input(\"Wie lautet dein Name? \")\n",
        "\n",
        "print(\"Hi, \" + name + \"!\")\n",
        "print(name + \" ist ein wirklich schöner Name.\")"
      ],
      "metadata": {
        "id": "U1CBkk-c5EE2"
      },
      "execution_count": null,
      "outputs": []
    },
    {
      "cell_type": "markdown",
      "source": [
        "### Übung\n",
        "\n",
        "Schreibe ein Programm, dass den eingegebenen Namen mehrmals nutzt\n",
        "\n",
        "Beispielausgabe:\n",
        "\n",
        "```\n",
        "Wie heißt du? Ellen Musterfrau\n",
        "Hallo Ellen Musterfrau! Nur damit ich sichergehe: Du heißt Ellen Musterfrau?\n",
        "\n",
        "```\n",
        "\n"
      ],
      "metadata": {
        "id": "1S5_nK3G5QDh"
      }
    },
    {
      "cell_type": "code",
      "source": [
        "# Dein Code hier"
      ],
      "metadata": {
        "id": "Wk6phnHS5mP2"
      },
      "execution_count": null,
      "outputs": []
    },
    {
      "cell_type": "markdown",
      "source": [
        "Ein Programm kann mehr als eine Eingabe anfordern. Beachte, dass unten jeder input Befehl den empfangenen Wert in einer anderen Variablen speichert."
      ],
      "metadata": {
        "id": "DxZuvqE85x-Z"
      }
    },
    {
      "cell_type": "code",
      "source": [
        "name = input(\"Wie lautet dein Name? \")\n",
        "email = input(\"Wie lautet deine Email Addresse? \")\n",
        "nickname = input(\"Wie lautet dein Nickname? \")\n",
        "\n",
        "print(\"Lass uns sicher gehen, dass wir alles korrekt haben\")\n",
        "print(\"Dein Name: \" + name)\n",
        "print(\"Deine Email Adresse: \" + email)\n",
        "print(\"Dein Nickname: \" + nickname)"
      ],
      "metadata": {
        "id": "EPzSMo-_54Qg"
      },
      "execution_count": null,
      "outputs": []
    },
    {
      "cell_type": "markdown",
      "source": [
        "Wenn dieselbe Variable zum Speichern mehrerer Eingaben verwendet wird, ersetzt jeder neue Wert den vorherigen.\n",
        "\n",
        "Beispiel:"
      ],
      "metadata": {
        "id": "vSQM5tr66UDa"
      }
    },
    {
      "cell_type": "code",
      "source": [
        "address = input(\"Wie lautet deine Adresse? \")\n",
        "print(\"Du lebst also aktuell hier: \" + address)\n",
        "\n",
        "address = input(\"Tippe bitte deine neue Adresse ein: \")\n",
        "print(\"Dein neuer Wohnort lautet \" + address)"
      ],
      "metadata": {
        "id": "mVpld8ac6mT9"
      },
      "execution_count": null,
      "outputs": []
    },
    {
      "cell_type": "markdown",
      "source": [
        "### Übung\n",
        "Schreibe ein Programm, das nach dem Namen und der Adresse des Benutzers fragt. Das Programm sollte die angegebenen Informationen auch ausdrucken, und zwar wie folgt\n",
        "\n",
        "\n",
        "\n",
        "```\n",
        "Vorname: Steve\n",
        "Nachname: Sanders\n",
        "Straße und Hausnummer: Musterstraße 8\n",
        "Stadt und Postleitzahl: 07545 München\n",
        "Steve Sanders Musterstraße 9 07545 München\n",
        "```\n",
        "\n"
      ],
      "metadata": {
        "id": "AF5iY5S561bg"
      }
    },
    {
      "cell_type": "code",
      "source": [
        "# Dein Code hier"
      ],
      "metadata": {
        "id": "BcyLleiX7HcM"
      },
      "execution_count": null,
      "outputs": []
    },
    {
      "cell_type": "markdown",
      "source": [
        "### Übung 2\n",
        "\n",
        "Schreiben ein Programm, das folgende Geschichte ausgibt. Der Benutzer gibt einen Namen und eine Jahreszahl an, die in den Ausdruck eingefügt werden sollen.\n",
        "\n",
        "\n",
        "\n",
        "```\n",
        "Bitte geben Sie einen Namen ein: Mary\n",
        "Bitte geben Sie ein Jahr ein: 1572\n",
        "\n",
        "Mary ist eine tapfere Ritterin, geboren im Jahr 1572. Eines Morgens wurde Mary von einem schrecklichen Lärm geweckt: Ein Drache näherte sich dem Dorf. Nur Mary konnte die Dorfbewohner retten.\n",
        "```\n",
        "\n"
      ],
      "metadata": {
        "id": "IVeW7JHu7Ntn"
      }
    },
    {
      "cell_type": "code",
      "source": [
        "# Dein Code hier"
      ],
      "metadata": {
        "id": "Zy7TcUdZ7c6e"
      },
      "execution_count": null,
      "outputs": []
    },
    {
      "cell_type": "markdown",
      "source": [
        "-----\n",
        "\n",
        "# Teil 3: Variablen\n",
        "\n"
      ],
      "metadata": {
        "id": "2XhAMNq17or7"
      }
    },
    {
      "cell_type": "markdown",
      "source": [
        "## Ganze Zahlen\n",
        "\n",
        "Bisher haben wir nur Zeichenfolgen in Variablen gespeichert, aber es gibt auch viele andere Arten von Informationen, die wir speichern und später abrufen möchten. Schauen wir uns zuerst ganze Zahlen an. Ganze Zahlen sind Zahlen, die weder einen Dezimal- noch einen Bruchteil haben, wie beispielsweise -15, 0 und 1.\n",
        "\n",
        "Das folgende Programm erstellt die Variable age, die einen ganzzahligen Wert enthält."
      ],
      "metadata": {
        "id": "Hqb_teab7tK9"
      }
    },
    {
      "cell_type": "code",
      "source": [
        "age = 24\n",
        "print(age)"
      ],
      "metadata": {
        "id": "IIwB3nkx78Dc"
      },
      "execution_count": null,
      "outputs": []
    },
    {
      "cell_type": "markdown",
      "source": [
        "Beachte, dass hier keine Anführungszeichen stehen. Wenn wir die Zahl in Anführungszeichen setzen würden, wäre unsere Variable keine Ganzzahl mehr, sondern eine Zeichenfolge. Eine Zeichenfolge kann Zahlen enthalten, wird aber anders verarbeitet.\n",
        "\n",
        "Warum ist es also wichtig, dass Variablen einen Typ haben, wenn das folgende Programm trotzdem zweimal dasselbe ausgibt?"
      ],
      "metadata": {
        "id": "6ATPhFvX7-tn"
      }
    },
    {
      "cell_type": "code",
      "source": [
        "number1 = 100\n",
        "number2 = \"100\"\n",
        "\n",
        "print(number1)\n",
        "print(number2)"
      ],
      "metadata": {
        "id": "kiccCbMt8C_j"
      },
      "execution_count": null,
      "outputs": []
    },
    {
      "cell_type": "markdown",
      "source": [
        "Variablentypen sind wichtig, weil unterschiedliche Operationen unterschiedliche Variablentypen auf unterschiedliche Weise beeinflussen. Sehen wir uns ein Beispiel an:"
      ],
      "metadata": {
        "id": "TB2lMQ0U8F7j"
      }
    },
    {
      "cell_type": "code",
      "source": [
        "number1 = 100\n",
        "number2 = \"100\"\n",
        "\n",
        "print(number1 + number1)\n",
        "print(number2 + number2)"
      ],
      "metadata": {
        "id": "5z5cUjdN8IQh"
      },
      "execution_count": null,
      "outputs": []
    },
    {
      "cell_type": "markdown",
      "source": [
        "Bei ganzzahligen Werten +bedeutet der Operator eine Addition, bei Zeichenfolgenwerten jedoch eine Verkettung oder „Aneinanderreihung“.\n",
        "\n",
        "Nicht alle Operatoren sind für alle Variablentypen verfügbar. Zahlen können zwar mit dem Divisionsoperator dividiert werden /, der Versuch, einen String durch eine Zahl zu dividieren, führt jedoch zu einem Fehler:"
      ],
      "metadata": {
        "id": "__DHWlGF8Lx0"
      }
    },
    {
      "cell_type": "code",
      "source": [
        "number = \"100\"\n",
        "print(number / 2)"
      ],
      "metadata": {
        "id": "R9bNaWC-8OBc"
      },
      "execution_count": null,
      "outputs": []
    },
    {
      "cell_type": "markdown",
      "source": [
        "### Kombinieren von Werten bei der print Funktion\n",
        "\n",
        "Ebenso wird das folgende Programm nicht funktionieren, da es zwei verschiedene Typen von `Das Ergebnis ist` und `result` gibt"
      ],
      "metadata": {
        "id": "U97yrzaL8SkL"
      }
    },
    {
      "cell_type": "code",
      "source": [
        "result = 10 * 25\n",
        "# die folgende Zeile erzeugt einen Fehler\n",
        "print(\"Das Ergebnis ist \" + result)"
      ],
      "metadata": {
        "id": "C2PcAJ-M8mXP"
      },
      "execution_count": null,
      "outputs": []
    },
    {
      "cell_type": "markdown",
      "source": [
        "Hier sagt uns Python, dass die Kombination zweier unterschiedlicher Wertetypen nicht einfach so funktioniert. In diesem Fall `Das Ergebnis ist` ist vom Typ **String**, während der in gespeicherte Wert `result` vom Typ **Integer** ist.\n",
        "\n",
        "Wenn wir einen String und einen Integer in einem einzigen Befehl ausgeben möchten, kann der Integer mit der `str`Funktion in einen String umgewandelt werden und die beiden Strings können dann normal kombiniert werden. So würde es beispielsweise funktionieren:"
      ],
      "metadata": {
        "id": "0-gr0PeT8xFX"
      }
    },
    {
      "cell_type": "code",
      "source": [
        "result = 10 * 25\n",
        "print(\"Das Ergebnis ist \" + str(result))"
      ],
      "metadata": {
        "id": "zlw7n0Wh8-HK"
      },
      "execution_count": null,
      "outputs": []
    },
    {
      "cell_type": "markdown",
      "source": [
        "Der `print`Befehl verfügt auch über integrierte Funktionen, die das Kombinieren verschiedener Wertetypen unterstützen. Am einfachsten geht das, indem man zwischen den Werten ein Komma einfügen. Alle Werte werden unabhängig von ihrem Typ ausgedruckt:"
      ],
      "metadata": {
        "id": "jBiMgg2_9D9w"
      }
    },
    {
      "cell_type": "code",
      "source": [
        "result = 10 * 25\n",
        "print(\"Das Ergebnis ist\", result)"
      ],
      "metadata": {
        "id": "xgrrIRtc9IsX"
      },
      "execution_count": null,
      "outputs": []
    },
    {
      "cell_type": "markdown",
      "source": [
        "**Beachte**, dass hier zwischen den durch Komma getrennten Werten automatisch ein Leerzeichen eingefügt wird."
      ],
      "metadata": {
        "id": "cKixtLXd9QLQ"
      }
    },
    {
      "cell_type": "markdown",
      "source": [
        "#### `print` mit F-Strings"
      ],
      "metadata": {
        "id": "uC-ZO_-d9UCM"
      }
    },
    {
      "cell_type": "markdown",
      "source": [
        "Was ist, wenn wir mehr Flexibilität und Kontrolle über das haben möchten, was wir ausdrucken? Sogenannte `F-Strings` sind eine weitere Möglichkeit, Ausdrucke in Python zu formatieren. Die Syntax kann zunächst etwas verwirrend aussehen, aber letztendlich sind `F-Strings` oft die einfachste Möglichkeit, Text zu formatieren.\n",
        "\n",
        "Mit F-Strings würde das vorherige Beispiel folgendermaßen aussehen:"
      ],
      "metadata": {
        "id": "6j9fJmwe9Ygb"
      }
    },
    {
      "cell_type": "code",
      "source": [
        "result = 10 * 25\n",
        "print(f\"Das Ergebnis ist {result}\")"
      ],
      "metadata": {
        "id": "U5PN1TgE9hA7"
      },
      "execution_count": null,
      "outputs": []
    },
    {
      "cell_type": "markdown",
      "source": [
        "Ein einzelner F-String kann mehrere Variablen enthalten. Zum Beispiel dieser Code"
      ],
      "metadata": {
        "id": "7a8R03rG9s3Y"
      }
    },
    {
      "cell_type": "code",
      "source": [
        "name = \"Mark\"\n",
        "age = 37\n",
        "city = \"Palo Alto\"\n",
        "print(f\"Hi {name}, du bist {age} Jahre. Du lebst in {city}.\")"
      ],
      "metadata": {
        "id": "HSuyecoD9lzN"
      },
      "execution_count": null,
      "outputs": []
    },
    {
      "cell_type": "markdown",
      "source": [
        "Beachte das automatisch eingefügte Leerzeichen zwischen jedem durch Kommas getrennten Teil des Ausdrucks.\n",
        "\n",
        "In ihrer Einfachheit kann die Komma-Notation des `print`Befehls oft nützlich sein, aber manchmal macht sie mehr Ärger als sie wert ist. `F-Strings` sind normalerweise eine zuverlässigere Option."
      ],
      "metadata": {
        "id": "-mUHMsYZ9zBT"
      }
    },
    {
      "cell_type": "markdown",
      "source": [
        "### Übung\n",
        "\n",
        "Ihre Freundin arbeitet an einer App für Arbeitssuchende. Sie schickt Ihnen diesen Code:\n",
        "\n",
        "\n",
        "```\n",
        "name = \"Tim Tester\"\n",
        "age = 20\n",
        "skill1 = \"python\"\n",
        "level1 = \"beginner\"\n",
        "skill2 = \"java\"\n",
        "level2 = \"veteran\"\n",
        "skill3 = \"programming\"\n",
        "level3 = \"semiprofessional\"\n",
        "lower = 2000\n",
        "upper = 3000\n",
        "\n",
        "print(\"Mein Name ist \", name, \" , ich bin \", age, \"Jahre alt\")\n",
        "print(\"Meine Fähigkeiten sind\")\n",
        "print(\"- \", skill1, \" (\", level1, \")\")\n",
        "print(\"- \", skill2, \" (\", level2, \")\")\n",
        "print(\"- \", skill3, \" (\", level3, \" )\")\n",
        "print(\"Ich suche einen Job mit einem Gehalt zwischen\", lower, \"-\", upper, \"Euro pro Monat\")\n",
        "```\n",
        "\n",
        "Die Ausgabe sollte wie folgt sein\n",
        "\n",
        "```\n",
        "Mein Name ist Tim Tester, ich bin 20 Jahre alt\n",
        "\n",
        "Meine Fähigkeiten sind\n",
        " - python (beginner)\n",
        " - Java (Veteran)\n",
        " - Programmieren (semiprofessionell)\n",
        "\n",
        "Ich suche einen Job mit einem Gehalt von 2000-3000 Euro pro Monat\n",
        "```\n",
        "\n",
        "Der Code funktioniert fast richtig, aber nicht ganz.\n",
        "\n",
        "Korrigiere den Code, damit der Ausdruck richtig aussieht. Beachte insbesondere, wie die Komma-Notation im `print`Befehl automatisch ein Leerzeichen um die verschiedenen durch Kommas getrennten Teile einfügt.\n",
        "\n",
        "Der einfachste Weg, den Code so umzuwandeln, dass er die Anforderungen erfüllt, ist die Verwendung von `F-Strings`.\n",
        "\n",
        "Hinweis: Du kannst eine leere Zeile drucken `print`, indem du einen leeren Befehl hinzufügen oder das Zeilenumbruchzeichen `\\n` in deine Zeichenfolge einfügst.\n"
      ],
      "metadata": {
        "id": "uRy1Vp7Z-AIU"
      }
    },
    {
      "cell_type": "code",
      "source": [
        "name = \"Tim Tester\"\n",
        "age = 20\n",
        "skill1 = \"python\"\n",
        "level1 = \"beginner\"\n",
        "skill2 = \"java\"\n",
        "level2 = \"veteran\"\n",
        "skill3 = \"programming\"\n",
        "level3 = \"semiprofessional\"\n",
        "lower = 2000\n",
        "upper = 3000\n",
        "\n",
        "print(\"Mein Name ist \", name, \" , ich bin \", age, \"Jahre alt\")\n",
        "print(\"Meine Fähigkeiten sind\")\n",
        "print(\"- \", skill1, \" (\", level1, \")\")\n",
        "print(\"- \", skill2, \" (\", level2, \")\")\n",
        "print(\"- \", skill3, \" (\", level3, \" )\")\n",
        "print(\"Ich suche einen Job mit einem Gehalt zwischen\", lower, \"-\", upper, \"Euro pro Monat\")"
      ],
      "metadata": {
        "id": "5RUz5uc7-kgh"
      },
      "execution_count": null,
      "outputs": []
    },
    {
      "cell_type": "markdown",
      "source": [
        "## Gleitkommazahlen\n",
        "\n",
        "\n",
        "`Floating point number`oder `Float` ist ein Begriff, der dir beim Programmieren häufig begegnet. Er bezieht sich auf Zahlen mit einem Dezimalpunkt. Sie können ähnlich wie Ganzzahlen verwendet werden.\n",
        "\n",
        "Dieses Programm berechnet den Mittelwert von drei Gleitkommazahlen:"
      ],
      "metadata": {
        "id": "WcjpbO4n_PUq"
      }
    },
    {
      "cell_type": "code",
      "source": [
        "number1 = 2.5\n",
        "number2 = -1.25\n",
        "number3 = 3.62\n",
        "\n",
        "mean = (number1 + number2 + number3) / 3\n",
        "print(f\"Durchschnitt: {mean}\")"
      ],
      "metadata": {
        "id": "fMjxDNMj_ksG"
      },
      "execution_count": null,
      "outputs": []
    },
    {
      "cell_type": "markdown",
      "source": [
        "### Übung\n",
        "\n",
        "Dieses Programm enthält bereits zwei Integer-Variablen x und y:\n",
        "\n",
        "```\n",
        "x = 27\n",
        "y = 15\n",
        "```\n",
        "\n",
        "\n",
        "Bitte vervollständige das Programm so, dass es zusätzlich folgendes ausdruckt:\n",
        "\n",
        "Beispielausgabe\n",
        "\n",
        "\n",
        "```\n",
        "27 + 15 = 42\n",
        "27 - 15 = 12\n",
        "27 * 15 = 405\n",
        "27 / 15 = 1.8\n",
        "```\n",
        "\n",
        "\n",
        "\n",
        "Das Programm sollte auch dann korrekt funktionieren, wenn die Werte der Variablen geändert werden. Das heißt, wenn die ersten beiden Zeilen durch Folgendes ersetzt werden:\n",
        "\n",
        "\n",
        "```\n",
        "x = 4\n",
        "y = 9\n",
        "```\n",
        "\n",
        "\n",
        "das Programm sollte folgendes ausdrucken:\n",
        "\n",
        "Beispielausgabe\n",
        "\n",
        "```\n",
        "4 + 9 = 13\n",
        "4 - 9 = -5\n",
        "4 * 9 = 36\n",
        "4 / 9 = 0.4444444444444444\n",
        "```"
      ],
      "metadata": {
        "id": "M1YwzlBw_wqF"
      }
    },
    {
      "cell_type": "code",
      "source": [
        "x = 27\n",
        "y = 15\n",
        "\n",
        "# Dein Code hier\n",
        "\n"
      ],
      "metadata": {
        "id": "uH_98kMLACy1"
      },
      "execution_count": null,
      "outputs": []
    },
    {
      "cell_type": "markdown",
      "source": [
        "\n",
        "## Arithmetische Operatoren in Python\n",
        "\n",
        "In den vorherigen Abschnitten haben wir Beispiele mit grundlegenden Arithmetikoperationen gesehen. In der folgenden Tabelle siehst du die gebräuchlichsten arithmetischen Operatoren in Python mit Beispielen:\n",
        "\n",
        "| **Operator** | **Zweck**                          | **Beispiel**    | **Ergebnis** |\n",
        "|--------------|------------------------------------|-----------------|--------------|\n",
        "| `+`          | Addition                           | `2 + 4`         | `6`          |\n",
        "| `-`          | Subtraktion                        | `10 - 2.5`      | `7.5`        |\n",
        "| `*`          | Multiplikation                     | `-2 * 123`      | `-246`       |\n",
        "| `/`          | Division (Gleitkommaergebnis)      | `9 / 2`         | `4.5`        |\n",
        "| `//`         | Division (ganzzahliges Ergebnis)   | `9 // 2`        | `4`          |\n",
        "| `%`          | Modulo                             | `9 % 2`         | `1`          |\n",
        "| `**`         | Potenzierung                       | `2 ** 3`        | `8`          |\n",
        "\n",
        "---\n",
        "\n",
        "### Reihenfolge der Rechenoperationen\n",
        "\n",
        "Die Reihenfolge der Rechenoperationen entspricht der aus der Mathematik bekannten Reihenfolge:  \n",
        "1. **Exponenten** berechnen.  \n",
        "2. **Multiplikation und Division**.  \n",
        "3. **Addition und Subtraktion**.  \n",
        "\n",
        "Die Reihenfolge kann durch Klammern verändert werden.\n",
        "\n",
        "#### Beispielcode:\n",
        "\n",
        "```python\n",
        "print(2 + 3 * 3)      # Ohne Klammern\n",
        "print((2 + 3) * 3)    # Mit Klammern\n",
        "```\n",
        "\n",
        "#### Beispielausgabe:\n",
        "```\n",
        "11\n",
        "15\n",
        "```\n",
        "\n",
        "Die Verwendung von Klammern hilft, die gewünschte Reihenfolge der Berechnungen explizit festzulegen."
      ],
      "metadata": {
        "id": "RzEQ692kBD4C"
      }
    },
    {
      "cell_type": "code",
      "source": [
        "print(2 + 3 * 3)\n",
        "print((2 + 3) * 3)"
      ],
      "metadata": {
        "id": "HSscn9DCBVpI"
      },
      "execution_count": null,
      "outputs": []
    },
    {
      "cell_type": "markdown",
      "source": [
        "### Operanden, Operatoren und Datentypen\n",
        "Eine Berechnung besteht normalerweise aus Operanden und Operatoren :\n",
        "\n",
        "![1_4_1.png](data:image/png;base64,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)"
      ],
      "metadata": {
        "id": "0HYlPYC_BdQQ"
      }
    },
    {
      "cell_type": "markdown",
      "source": [
        "Der Datentyp eines Operanden bestimmt normalerweise den Datentyp des Ergebnisses: Wenn zwei Ganzzahlen addiert werden, ist das Ergebnis ebenfalls eine Ganzzahl. Wenn eine Gleitkommazahl von einer anderen Gleitkommazahl subtrahiert wird, ist das Ergebnis eine Gleitkommazahl. Tatsächlich ist das Ergebnis auch eine Gleitkommazahl, wenn einer der Operanden in einem Ausdruck eine Gleitkommazahl ist, unabhängig von den anderen Operanden.\n",
        "\n",
        "Eine Ausnahme von dieser Regel ist die Division /. Ihr Ergebnis ist eine Gleitkommazahl, auch wenn die Operanden Ganzzahlen sind. Beispielsweise 1 / 5ergibt die Division die Gleitkommazahl 0.2.\n",
        "\n",
        "Beispiel:"
      ],
      "metadata": {
        "id": "5BMkU2bVBsVq"
      }
    },
    {
      "cell_type": "code",
      "source": [
        "height = 172.5\n",
        "weight = 68.55\n",
        "\n",
        "# Der Body Mass Index (BMI) wird berechnet, indem die Körpermasse durch das Quadrat der Körpergröße geteilt wird.\n",
        "# Die Höhe wird in der Formel in Meter umgerechnet\n",
        "bmi = weight / (height / 100) ** 2\n",
        "\n",
        "print(f\"The BMI is {bmi}\")"
      ],
      "metadata": {
        "id": "fNNj38F5BxGV"
      },
      "execution_count": null,
      "outputs": []
    },
    {
      "cell_type": "markdown",
      "source": [
        "Beachte, dass Python auch einen Ganzzahldivisionsoperator hat //. Wenn die Operanden Ganzzahlen sind, wird eine Ganzzahl erzeugt. Das Ergebnis wird auf die nächste Ganzzahl abgerundet. Dieses Programm beispielsweise"
      ],
      "metadata": {
        "id": "ntk0ieKiB8xO"
      }
    },
    {
      "cell_type": "code",
      "source": [
        "x = 3\n",
        "y = 2\n",
        "\n",
        "print(f\"/ operator {x/y}\")\n",
        "print(f\"// operator {x//y}\")"
      ],
      "metadata": {
        "id": "HvpDtcoIB_pA"
      },
      "execution_count": null,
      "outputs": []
    },
    {
      "cell_type": "markdown",
      "source": [
        "Wir haben den `input`Befehl bereits verwendet, um Zeichenfolgen vom Benutzer einzulesen. Die gleiche Funktion kann auch zum Einlesen von Zahlen verwendet werden, allerdings muss die von der Funktion erzeugte Zeichenfolge anschließend im Programmcode in einen numerischen Datentyp umgewandelt werden. Im vorherigen Abschnitt haben wir mit der strFunktion Ganzzahlen in Zeichenfolgen umgewandelt. Hier gilt das gleiche Grundprinzip, der Name der Umwandlungsfunktion ist jedoch anders.\n",
        "\n",
        "Mit der Funktion kann ein String in einen Integer umgewandelt werden int. Das folgende Programm fragt den Benutzer nach seinem Geburtsjahr und speichert es in der Variable `input_str`. Anschließend erstellt das Programm eine weitere Variable `year`, die das in einen Integer umgewandelte Jahr enthält. Danach ist die Berechnung `2025-year`  mit dem vom Benutzer angegebenen Wert möglich."
      ],
      "metadata": {
        "id": "lk-cyLjtCFSC"
      }
    },
    {
      "cell_type": "code",
      "source": [
        "input_str = input(\"In welchem Jahr wurdest du geboren? \")\n",
        "year = int(input_str)\n",
        "print(f\"Am Ende des Jahres 2025 bist du : {2025 - year}\" )"
      ],
      "metadata": {
        "id": "sGAwa1FJCVl-"
      },
      "execution_count": null,
      "outputs": []
    },
    {
      "cell_type": "markdown",
      "source": [
        "Normalerweise müssen Sie nicht zwei separate Variablen erstellen (wie oben `input_str`und `year`), um einen Zahlenwert vom Benutzer zu lesen. Stattdessen könntest du die Eingabe mit der `input`Funktion lesen und mit der Funktion konvertieren, und zwar in einem Schritt:"
      ],
      "metadata": {
        "id": "2Va1_JG1ClLP"
      }
    },
    {
      "cell_type": "code",
      "source": [
        "input_str = int(input(\"In welchem Jahr wurdest du geboren? \"))\n",
        "print(f\"Am Ende des Jahres 2025 bist du : {2025 - year}\" )"
      ],
      "metadata": {
        "id": "07mHFEZtCvej"
      },
      "execution_count": null,
      "outputs": []
    },
    {
      "cell_type": "code",
      "source": [
        "height = float(input(\"Wie groß bist du (in cm)? \"))\n",
        "weight = float(input(\"Wieviel wiegst du? \"))\n",
        "\n",
        "height = height / 100\n",
        "bmi = weight / height ** 2\n",
        "\n",
        "print(f\"The BMI is {bmi}\")"
      ],
      "metadata": {
        "id": "0tXW-EjgC4dy"
      },
      "execution_count": null,
      "outputs": []
    },
    {
      "cell_type": "markdown",
      "source": [
        "### Übung\n",
        "\n",
        "Schreiben ein Programm, das den Benutzer nach einer Zahl fragt. Das Programm druckt dann die mit fünf multiplizierte Zahl aus.\n",
        "\n",
        "Das Programm sollte wie folgt funktionieren:\n",
        "\n",
        "```\n",
        "Beispielausgabe\n",
        "Bitte geben Sie eine Zahl ein: 3\n",
        "3 mal 5 ist 15\n",
        "```\n",
        "\n"
      ],
      "metadata": {
        "id": "sEfhNFtQDF3F"
      }
    },
    {
      "cell_type": "code",
      "source": [
        "# Dein Code hier"
      ],
      "metadata": {
        "id": "kuSa3B2iDNHT"
      },
      "execution_count": null,
      "outputs": []
    },
    {
      "cell_type": "markdown",
      "source": [
        "### Übung 2\n",
        "\n",
        "Schreibe ein Programm, das den Benutzer nach seinem Namen und Geburtsjahr fragt. Das Programm gibt dann folgende Meldung aus:\n",
        "\n",
        "```\n",
        "Wie heißt du? Frances Fictitious\n",
        "In welchem ​​Jahr bist du geboren? 1990\n",
        "Hallo Frances Fictitious, du wirst Ende des Jahres 2021 31 Jahre alt sein\n",
        "```\n",
        "\n"
      ],
      "metadata": {
        "id": "vOh2zq2vDQDY"
      }
    },
    {
      "cell_type": "code",
      "source": [
        "# Dein Code hier"
      ],
      "metadata": {
        "id": "jVHOUC0aDXcT"
      },
      "execution_count": null,
      "outputs": []
    },
    {
      "cell_type": "markdown",
      "source": [
        "## Verwenden von Variablen\n",
        "\n",
        "Schauen wir uns ein Programm an, das die Summe dreier vom Benutzer eingegebener Zahlen berechnet:"
      ],
      "metadata": {
        "id": "a1el33aBDhBb"
      }
    },
    {
      "cell_type": "code",
      "source": [
        "number1 = int(input(\"Erste Zahl: \"))\n",
        "number2 = int(input(\"Zweite Zahl: \"))\n",
        "number3 = int(input(\"Dritte Zahl: \"))\n",
        "\n",
        "sum = number1 + number2 + number3\n",
        "print(f\"Die Summe der drei Zahlen ist: {sum}\")"
      ],
      "metadata": {
        "id": "e0D61ZiaDkd5"
      },
      "execution_count": null,
      "outputs": []
    },
    {
      "cell_type": "markdown",
      "source": [
        "Das Programm verwendet vier verschiedene Variablen, aber in diesem Fall würden zwei problemlos ausreichen:"
      ],
      "metadata": {
        "id": "DP7IGLz5ErWZ"
      }
    },
    {
      "cell_type": "code",
      "source": [
        "sum = 0\n",
        "\n",
        "number = int(input(\"Erste Zahl: \"))\n",
        "\n",
        "sum = sum + number\n",
        "\n",
        "number = int(input(\"Zweite Zahl: \"))\n",
        "\n",
        "sum = sum + number\n",
        "\n",
        "number = int(input(\"Dritte Zahl: \"))\n",
        "\n",
        "sum = sum + number\n",
        "\n",
        "print(f\"Die Summe der drei Zahlen ist: {sum}\")"
      ],
      "metadata": {
        "id": "kl45PqhyEuL9"
      },
      "execution_count": null,
      "outputs": []
    },
    {
      "cell_type": "markdown",
      "source": [
        "Nun werden alle Eingaben des Benutzers in ein und dieselbe Variable eingelesen `number`. Der Wert der Variablen `sum`wird bei jeder Eingabe einer neuen Zahl durch den Benutzer um den Wert der Variablen erhöht `number`\n",
        "\n",
        "Schauen wir uns diesen Befehl genauer an:\n",
        "\n",
        "`sum = sum + number`"
      ],
      "metadata": {
        "id": "vF1RM1BKE_ZF"
      }
    },
    {
      "cell_type": "markdown",
      "source": [
        "Dabei werden der Wert der Variablen `sum`und der Wert der Variablen `number`addiert und das Ergebnis wieder in der Variablen `sum` gespeichert. Wenn beispielsweise vor dem Befehl der Wert von `sum`3 und der Wert von `number`2 ist, ist der Wert von nach der Ausführung des Befehls `sum`5.\n",
        "\n",
        "Das Erhöhen des Wertes einer Variablen ist eine sehr häufige Operation. Daher gibt es eine häufig verwendete Kurzschreibweise, die dasselbe Ergebnis erzielt wie die explizite Summierung oben:\n",
        "\n",
        "```\n",
        "sum += number\n",
        "```\n",
        "\n",
        "Dadurch können wir das obige Programm etwas prägnanter schreiben:\n",
        "\n"
      ],
      "metadata": {
        "id": "Nezko-NsFKIU"
      }
    },
    {
      "cell_type": "code",
      "source": [
        "sum = 0\n",
        "\n",
        "number = int(input(\"Erste Zahl: \"))\n",
        "\n",
        "sum += number\n",
        "\n",
        "number = int(input(\"Zweite Zahl: \"))\n",
        "\n",
        "sum += number\n",
        "\n",
        "number = int(input(\"Dritte Zahl: \"))\n",
        "\n",
        "sum += number\n",
        "\n",
        "print(f\"Die Summe der drei Zahlen ist: {sum}\")"
      ],
      "metadata": {
        "id": "TqXarANbFkkx"
      },
      "execution_count": null,
      "outputs": []
    },
    {
      "cell_type": "markdown",
      "source": [
        "Tatsächlich brauchen wir die Variable `number`gar nicht unbedingt. Die Eingaben des Benutzers können auch folgendermaßen verarbeitet werden:"
      ],
      "metadata": {
        "id": "1CL7ls8lFqRp"
      }
    },
    {
      "cell_type": "code",
      "source": [
        "sum = 0\n",
        "\n",
        "sum += int(input(\"Erste Zahl: \"))\n",
        "sum += int(input(\"Zweite Zahl: \"))\n",
        "sum += int(input(\"Dritte Zahl: \"))\n",
        "\n",
        "print(f\"Die Summe der drei Zahlen ist: {sum}\")"
      ],
      "metadata": {
        "id": "VKRHOrIAFv1b"
      },
      "execution_count": null,
      "outputs": []
    },
    {
      "cell_type": "markdown",
      "source": [
        "Natürlich hängt es vom Kontext ab, wie viele Variablen benötigt werden. Wenn jeder vom Benutzer eingegebene Wert gespeichert werden muss, ist es nicht möglich, dieselbe Variable „wiederzuverwenden“, um verschiedene Werte vom Benutzer zu lesen. Bedenke Folgendes:"
      ],
      "metadata": {
        "id": "dBMa5ZA2F7og"
      }
    },
    {
      "cell_type": "code",
      "source": [
        "number1 = int(input(\"Erste Zahle: \"))\n",
        "number2 = int(input(\"Zweite Zahl: \"))\n",
        "\n",
        "print(f\"{number1} + {number2} = {number1+number2}\")"
      ],
      "metadata": {
        "id": "LnoFdrmZGAfh"
      },
      "execution_count": null,
      "outputs": []
    },
    {
      "cell_type": "markdown",
      "source": [
        "### Übung\n",
        "\n",
        "Schreibe ein Programm, das den Benutzer nach einer Anzahl von Tagen fragt. Das Programm gibt dann die Anzahl der Sekunden in der angegebenen Anzahl von Tagen aus.\n",
        "\n",
        "Das Programm sollte wie folgt funktionieren:\n",
        "\n",
        "\n",
        "```\n",
        "Wie viele Tage? 1\n",
        "Sekunden in so vielen Tagen: 86400\n",
        "```\n",
        "\n",
        "oder\n",
        "\n",
        "\n",
        "\n",
        "```\n",
        "Wie viele Tage? 7\n",
        "Sekunden in so vielen Tagen: 604800\n",
        "```\n",
        "\n",
        "\n"
      ],
      "metadata": {
        "id": "R-U8ouiKGMmA"
      }
    },
    {
      "cell_type": "code",
      "source": [
        "# Dein Code hier"
      ],
      "metadata": {
        "id": "KXTk3yuHGY7u"
      },
      "execution_count": null,
      "outputs": []
    },
    {
      "cell_type": "markdown",
      "source": [
        "### Übung 2\n",
        "\n",
        "Dieses Programm verlangt vom Benutzer drei Zahlen. Anschließend gibt das Programm das Produkt aus, also die Zahlen multipliziert miteinander. Allerdings stimmt mit dem Programm etwas nicht – es funktioniert nicht richtig, wie du siehst, wenn du es ausführst. Du wurdest gebeten das Problem zu beheben.\n",
        "\n",
        "Ein Beispiel für die gewünschte Ausführung des Programms:\n",
        "\n",
        "\n",
        "```\n",
        "Bitte geben Sie die erste Zahl ein: 2\n",
        "Bitte geben Sie die zweite Zahl ein: 3\n",
        "Bitte geben Sie die dritte Zahl ein: 5\n",
        "Das Produkt ist 30\n",
        "```\n",
        "\n"
      ],
      "metadata": {
        "id": "ccosEMOjGcq3"
      }
    },
    {
      "cell_type": "code",
      "source": [
        "# Fix den Code hier\n",
        "number = int(input(\"Bitte geben Sie die erste Zahl ein: \"))\n",
        "number = int(input(\"Bitte geben Sie die zweite Zahl ein: \"))\n",
        "number = int(input(\"Bitte geben Sie die dritte Zahl ein: \"))\n",
        "\n",
        "product = number * number * number\n",
        "\n",
        "print(\"Das Produkt ist \", product)"
      ],
      "metadata": {
        "id": "nQdPbdWmGuSN"
      },
      "execution_count": null,
      "outputs": []
    },
    {
      "cell_type": "markdown",
      "source": [
        "### Übung 3\n",
        "\n",
        "Schreibe ein Programm, das den Benutzer nach zwei Zahlen fragt. Das Programm gibt dann die Summe und das Produkt der beiden Zahlen aus.\n",
        "\n",
        "Das Programm sollte wie folgt funktionieren:\n",
        "\n",
        "\n",
        "```\n",
        "Zahl 1: 3\n",
        "Zahl 2: 7\n",
        "Die Summe der Zahlen: 10 Das Produkt der Zahlen: 21\n",
        "```\n",
        "\n"
      ],
      "metadata": {
        "id": "riXBs_bsHB2c"
      }
    },
    {
      "cell_type": "code",
      "source": [
        "# Dein Code hier"
      ],
      "metadata": {
        "id": "JEfAqESxHR_1"
      },
      "execution_count": null,
      "outputs": []
    },
    {
      "cell_type": "markdown",
      "source": [
        "### Übung 4\n",
        "\n",
        "Schreibe ein Programm, das den Benutzer nach vier Zahlen fragt. Das Programm druckt dann die Summe und den Mittelwert der Zahlen aus.\n",
        "\n",
        "Das Programm sollte wie folgt funktionieren:\n",
        "\n",
        "```\n",
        "Zahl 1: 2\n",
        "Zahl 2: 1\n",
        "Zahl 3: 6\n",
        "Zahl 4: 7\n",
        "Die Summe der Zahlen ist 16 und der Mittelwert ist 4,0\n",
        "```\n",
        "\n"
      ],
      "metadata": {
        "id": "5LOmsMnJHKn7"
      }
    },
    {
      "cell_type": "code",
      "source": [
        "# Dein Code hier"
      ],
      "metadata": {
        "id": "O9B7otBHHT3I"
      },
      "execution_count": null,
      "outputs": []
    },
    {
      "cell_type": "markdown",
      "source": [
        "### Übung 5\n",
        "\n",
        "Schreibe ein Programm, das den typischen Lebensmittelverbrauch eines Benutzers schätzt.\n",
        "\n",
        "Das Programm fragt den Benutzer, wie oft er pro Woche in der Mensa isst. Dann fragt es nach dem Preis eines typischen Mittagessens für Studenten und nach dem Geld, das er während der Woche für Lebensmittel ausgibt.\n",
        "\n",
        "Auf Grundlage dieser Informationen berechnet das Programm den typischen Lebensmittelverbrauch des Benutzers sowohl wöchentlich als auch täglich.\n",
        "\n",
        "Das Programm sollte wie folgt funktionieren:\n",
        "\n",
        "```\n",
        "\n",
        "Wie oft pro Woche essen Sie in der Mensa? 4\n",
        "Wie viel kostet ein typisches Mittagessen für Studenten? 2,5\n",
        "Wie viel Geld geben Sie pro Woche für Lebensmittel aus? 28,5\n",
        "\n",
        "Durchschnittliche Lebensmittelausgaben: Täglich: 5,5 Euro Wöchentlich: 38,5 Euro\n",
        "```\n",
        "\n"
      ],
      "metadata": {
        "id": "p7t1618WHY2r"
      }
    },
    {
      "cell_type": "code",
      "source": [
        "# Dein Code hier"
      ],
      "metadata": {
        "id": "dSHqTLjyHjh6"
      },
      "execution_count": null,
      "outputs": []
    },
    {
      "cell_type": "markdown",
      "source": [
        "### Übung 6\n",
        "\n",
        "Schreibe ein Programm, das nach der Anzahl der Studierenden eines Kurses und der gewünschten Gruppengröße fragt. Das Programm gibt dann die Anzahl der aus den Studierenden des Kurses gebildeten Gruppen aus. Wenn die Aufteilung nicht gleichmäßig ist, kann es sein, dass eine der Gruppen weniger Mitglieder hat als angegeben.\n",
        "\n",
        "Wenn dein Code nicht wie erwartet funktioniert, kannst du die Übung auch später fortsetzen. Das Thema des nächsten Abschnitts sind bedingte Anweisungen . Diese Übung kann auch mit einer bedingten Konstruktion gelöst werden.\n",
        "\n",
        "\n",
        "```\n",
        "Wie viele Studierende nehmen am Kurs teil? 8\n",
        "Gewünschte Gruppengröße? 4\n",
        "Anzahl der gebildeten Gruppen: 2\n",
        "\n",
        "Wie viele Studierende nehmen am Kurs teil? 11\n",
        "Gewünschte Gruppengröße? 3\n",
        "Anzahl der gebildeten Gruppen: 4\n",
        "```\n",
        "\n",
        "\n",
        "\n",
        "Hinweis: Der Operator für die Division ganzer Zahlen //könnte hier nützlich sein."
      ],
      "metadata": {
        "id": "Nvr34OfXHpoy"
      }
    },
    {
      "cell_type": "code",
      "source": [
        "# Dein Code hier"
      ],
      "metadata": {
        "id": "2AjnYYQgH8-v"
      },
      "execution_count": null,
      "outputs": []
    },
    {
      "cell_type": "markdown",
      "source": [
        "----\n",
        "\n",
        "# Teil 4: Bedingte Aussagen - Conditional Statements\n"
      ],
      "metadata": {
        "id": "ga1QnLLrySBP"
      }
    },
    {
      "cell_type": "markdown",
      "source": [
        "Bisher wurde jedes Programm, das wir geschrieben haben, Zeile für Zeile in der Reihenfolge ausgeführt. Anstatt jede Codezeile jedes Mal auszuführen, wenn ein Programm ausgeführt wird, ist es oft nützlich, Abschnitte des Programms zu erstellen, die nur in bestimmten Situationen ausgeführt werden.\n",
        "\n",
        "Der folgende Code prüft beispielsweise, ob das Alter des Benutzers innerhalb einer bestimmten Altersgrenze liegt:"
      ],
      "metadata": {
        "id": "7SIhjqmcyZ-T"
      }
    },
    {
      "cell_type": "code",
      "source": [
        "age = int(input(\"Wie alt sind Sie?\"))\n",
        "\n",
        "if age > 17:\n",
        "    print(\"Du bist volljährig!\")\n",
        "    print(\"Hier ist eine Kopie von GTA6 für Sie.\")\n",
        "\n",
        "print(\"Nächster Kunde, bitte!\")"
      ],
      "metadata": {
        "id": "LWt7LqYryiY3"
      },
      "execution_count": null,
      "outputs": []
    },
    {
      "cell_type": "markdown",
      "source": [
        "Typische Bedingungen bestehen aus dem Vergleich zweier Werte. Hier ist eine Tabelle mit den häufigsten Vergleichsoperatoren, die in Python verwendet werden:\n",
        "\n",
        " | Operator | Zweck                        | Beispiel    |\n",
        "|-----------|------------------------------|-------------|\n",
        "| ==        | Gleich                       | a == b      |\n",
        "| !=        | Nicht gleich                 | a != b      |\n",
        "| >         | Größer als                   | a > b       |\n",
        "| >=        | Größer oder gleich zu        | a >= b      |\n",
        "| <         | Weniger als                  | a < b       |\n",
        "| <=        | Weniger als oder gleich      | a <= b      |\n"
      ],
      "metadata": {
        "id": "s31dAzLU0C8s"
      }
    },
    {
      "cell_type": "markdown",
      "source": [
        "Werfen wir einen Blick auf ein Programm, das verschiedene Dinge ausgibt, je nachdem, ob die Zahl, die der Benutzer eingibt, negativ, positiv oder gleich Null ist."
      ],
      "metadata": {
        "id": "A9Ay5gqw0IwI"
      }
    },
    {
      "cell_type": "code",
      "source": [
        "number = int(input(\"Bitte geben Sie eine Zahl ein: \"))\n",
        "\n",
        "if number < 0:\n",
        "    print(\"Die Zahl ist negativ.\")\n",
        "\n",
        "if number > 0:\n",
        "    print(\"Die Zahl ist positiv.\")\n",
        "\n",
        "if number == 0:\n",
        "    print(\"Die Zahl ist Null.\")"
      ],
      "metadata": {
        "id": "-N_TqSAJ01Yw"
      },
      "execution_count": null,
      "outputs": []
    },
    {
      "cell_type": "markdown",
      "source": [
        "### Übung\n",
        "\n",
        "Mit welchen drei Fällen wird die eingegebene Zahl in diesem Code unterschieden?"
      ],
      "metadata": {
        "id": "VniITKKZ1L4k"
      }
    },
    {
      "cell_type": "markdown",
      "source": [
        "Deine Antwort:\n",
        "\n",
        "Fall 1:\n",
        "\n",
        "Fall 2:\n",
        "\n",
        "Fall 3:"
      ],
      "metadata": {
        "id": "T7f9wJcG1dgr"
      }
    },
    {
      "cell_type": "markdown",
      "source": [
        "Python erkennt, dass ein Codeblock Teil einer bedingten Anweisung ist, wenn jede Codezeile im Block gleich eingerückt ist. Das ist, es sollte ein bisschen Leerzeichen am Anfang jeder Codezeile innerhalb des Codeblocks geben. Jede Zeile sollte die gleiche Menge an Leerzeichen haben.\n",
        "\n",
        "Zum Beispiel:"
      ],
      "metadata": {
        "id": "sAdoT0e91m7R"
      }
    },
    {
      "cell_type": "code",
      "source": [
        "password = input(\"Bitte geben Sie ein Passwort ein: \")\n",
        "\n",
        "if password == \"kittycat\":\n",
        "    print(\"Du kennst das Passwort!\")\n",
        "    print(\"Sie müssen entweder der autorisierte Benutzer sein...\")\n",
        "    print(\"...oder ein ziemlich geschickter Hacker.\")\n",
        "\n",
        "print(\"Das Programm hat seine Ausführung beendet. Danke und tschüss!\")"
      ],
      "metadata": {
        "id": "1N2WpwB01qYG"
      },
      "execution_count": null,
      "outputs": []
    },
    {
      "cell_type": "markdown",
      "source": [
        "### Übung\n",
        "\n",
        "Schreiben ein Programm, das den Benutzer nach einer ganzen Zahl fragt. Das Programm sollte \"Orwell\" ausdrucken, wenn die Zahl genau 1984 ist, und ansonsten nichts tun.\n",
        "\n",
        "\n",
        "\n",
        "```\n",
        "Tippe bitte eine Zahl ein: 2020\n",
        "```\n",
        "\n",
        "\n",
        "\n",
        "```\n",
        "Tippe bitte eine Zahl ein: 1984\n",
        "Orwell\n",
        "```\n",
        "\n",
        "\n",
        "\n"
      ],
      "metadata": {
        "id": "pUYnXV4_2Dy4"
      }
    },
    {
      "cell_type": "code",
      "source": [
        "# Dein Code hier"
      ],
      "metadata": {
        "id": "nyepb6aC2JMN"
      },
      "execution_count": null,
      "outputs": []
    },
    {
      "cell_type": "markdown",
      "source": [
        "### Übung\n",
        "\n",
        "Schreiben ein Programm, das den Benutzer nach einer ganzen Zahl fragt. Wenn die Zahl kleiner als Null ist, sollte das Programm die Zahl multipliziert mit -1 ausdrucken. Andernfalls druckt das Programm die Nummer so aus, wie sie ist. Beispiele für erwartete Ausgaben:\n",
        "\n",
        "```\n",
        "Tippe bitte eine Zahl ein: -7\n",
        "Der absolute Wert deiner Zahl ist 7\n",
        "```\n",
        "\n",
        "```\n",
        "Tippe bitte eine Zahl ein: 1\n",
        "Der absolute Wert deiner Zahl ist 1\n",
        "```\n",
        "```\n",
        "Tippe bitte eine Zahl ein: -99\n",
        "Der absolute Wert deiner Zahl ist 99\n",
        "```\n"
      ],
      "metadata": {
        "id": "09GiTU6P2giF"
      }
    },
    {
      "cell_type": "code",
      "source": [
        "# Dein Code hier"
      ],
      "metadata": {
        "id": "QABh_NSa3L-n"
      },
      "execution_count": null,
      "outputs": []
    },
    {
      "cell_type": "markdown",
      "source": [
        " Schreibe ein Programm, das nach dem Namen des Benutzers fragt. Wenn der Name etwas anderes als \"Jerry\" ist, fragt das Programm nach der Anzahl der Portionen und druckt die Gesamtkosten aus. Der Preis für eine einzelne Portion beträgt 5,90.\n",
        "\n",
        "Zwei Beispiele für die Ausführung des Programms:\n",
        "\n",
        "\n",
        "```\n",
        "Bitte sagen Sie mir Ihren Namen: Kramer\n",
        "Wie viele Portionen Suppe? 2\n",
        "Der Gesamtpreis beträgt 11,8\n",
        "Der Nächste bitte!\n",
        "```\n",
        "\n",
        "\n",
        "```\n",
        "Bitte sagen Sie mir Ihren Namen: Jerry\n",
        "Der Nächste bitte!\n",
        "```\n",
        "\n",
        "\n"
      ],
      "metadata": {
        "id": "iseTrOu13RKr"
      }
    },
    {
      "cell_type": "code",
      "source": [
        "# Dein Code hier"
      ],
      "metadata": {
        "id": "JGPzZtmL3pwl"
      },
      "execution_count": null,
      "outputs": []
    },
    {
      "cell_type": "markdown",
      "source": [
        "Schreibe ein Programm, das den Benutzer nach einer ganzen Zahl fragt. Das Programm sollte dann die Größe der Zahl gemäß den folgenden Beispielen ausgeben:\n",
        "\n",
        "```\n",
        "Bitte geben Sie eine Zahl ein: 950\n",
        "Diese Zahl ist kleiner als 1000\n",
        "Dankeschön!\n",
        "```\n",
        "\n",
        "```\n",
        "Bitte geben Sie eine Zahl ein: 59\n",
        "Diese Zahl ist kleiner als 1000\n",
        "Diese Zahl ist kleiner als 100\n",
        "Dankeschön!\n",
        "```\n",
        "```\n",
        "Bitte geben Sie eine Zahl ein: 2\n",
        "Diese Zahl ist kleiner als 1000\n",
        "Diese Zahl ist kleiner als 100\n",
        "Diese Zahl ist kleiner als 10\n",
        "Dankeschön!\n",
        "```\n",
        "\n",
        "```\n",
        "Bitte geben Sie eine Zahl ein: 1123\n",
        "Dankeschön!\n",
        "```\n",
        "\n"
      ],
      "metadata": {
        "id": "jdnJ4_ji3rLd"
      }
    },
    {
      "cell_type": "code",
      "source": [
        "# Dein Code hier"
      ],
      "metadata": {
        "id": "nOXh4vbU4Twy"
      },
      "execution_count": null,
      "outputs": []
    },
    {
      "cell_type": "markdown",
      "source": [
        "## Boolesche Werte und boolesche Ausdrücke\n",
        "\n",
        "\n",
        "Jede Bedingung, die in einer bedingten Aussage verwendet wird, führt zu einem Wahrheitswert, d.h. entweder wahr oder falsch. Zum Beispiel ist die Bedingung a < 5 wahr, wenn a kleiner als 5 ist, und falsch, wenn a gleich oder größer als 5 ist.\n",
        "\n",
        "Diese Arten von Werten werden oft als Boolesche Werte bezeichnet, benannt nach dem englischen Mathematiker George Boole. In Python werden sie durch den Datentyp bool behandelt. Variablen vom Typ bool können nur zwei Werte annehmen: Wahr oder Falsch.\n",
        "\n",
        "Jedes Stück Code, das einen boolschen Wert ergibt, wird als boolscher Ausdruck bezeichnet. So ist beispielsweise die Bedingung in einer bedingten Anweisung immer ein boolescher Ausdruck, und die Begriffe Bedingung und boolescher Ausdruck können oft austauschbar verwendet werden.\n",
        "\n",
        "Das Ergebnis eines booleschen Ausdrucks kann in einer Variablen gespeichert werden, genau wie das Ergebnis einer numerischen Berechnung:"
      ],
      "metadata": {
        "id": "t-SHespp4WPW"
      }
    },
    {
      "cell_type": "code",
      "source": [
        "a = 3\n",
        "condition = a < 5\n",
        "print(condition)\n",
        "if condition:\n",
        "    print(\"a ist kleiner als 5\")"
      ],
      "metadata": {
        "id": "P7EaYy6A4eMv"
      },
      "execution_count": null,
      "outputs": []
    },
    {
      "cell_type": "markdown",
      "source": [
        "Die Python-Schlüsselwörter True und False können auch direkt verwendet werden. Im folgenden Beispiel wird der `print` Befehl jedes Mal ausgeführt, weil der Wert der Bedingung True ist:"
      ],
      "metadata": {
        "id": "SAoPmUKE4rjr"
      }
    },
    {
      "cell_type": "code",
      "source": [
        "condition = True\n",
        "if condition:\n",
        "    print(\"Diese Zeile wird jedes mal ausgegeben.\")"
      ],
      "metadata": {
        "id": "OqZqsu6h4xJw"
      },
      "execution_count": null,
      "outputs": []
    },
    {
      "cell_type": "markdown",
      "source": [
        "### Übung\n",
        "\n",
        "Schreibe ein Programm, das den Benutzer nach zwei Zahlen und einer Operation fragt. Wenn die Operation addieren, multiplizieren oder subtrahieren ist, soll das Programm das Ergebnis der Operation mit den angegebenen Zahlen berechnen und ausgeben. Wenn der Benutzer etwas anderes eingibt, soll das Programm nichts ausgeben.\n",
        "\n",
        "Einige Beispiele für das erwartete Verhalten:\n",
        "```\n",
        "Zahl 1: 10\n",
        "Zahl 2: 17\n",
        "Operation: Addieren\n",
        "10 + 17 = 27\n",
        "```\n",
        "```\n",
        "Zahl 1: 4\n",
        "Zahl 2: 6\n",
        "Operation: Multiplizieren\n",
        "4 * 6 = 24\n",
        "```\n",
        "```\n",
        "Zahl 1: 4\n",
        "Zahl 2: 6\n",
        "Operation: Subtrahieren\n",
        "4 - 6 = -2\n",
        "```"
      ],
      "metadata": {
        "id": "2B6Mq36T450K"
      }
    },
    {
      "cell_type": "code",
      "source": [
        "# Dein Code hier"
      ],
      "metadata": {
        "id": "DLIBvEqj5SCr"
      },
      "execution_count": null,
      "outputs": []
    },
    {
      "cell_type": "markdown",
      "source": [
        "### Übung 2\n",
        "\n",
        "Schreibe ein Programm, das den Benutzer nach einer Temperatur in Grad Fahrenheit fragt und diese dann in Grad Celsius ausgibt. Wenn die umgerechnete Temperatur unter null Grad Celsius fällt, soll das Programm auch ausgeben: „Brr! Es ist kalt hier drinnen!“.\n",
        "\n",
        "Die Formel für die Umrechnung von Grad Fahrenheit in Grad Celsius findest du leicht in einer Suchmaschine deiner Wahl.\n",
        "\n",
        "Zwei Beispiele für das erwartete Verhalten:\n",
        "```\n",
        "Bitte geben Sie eine Temperatur (F) ein: 101\n",
        "101 Grad Fahrenheit entspricht 38,333333333333336 Grad Celsius\n",
        "```\n",
        "```\n",
        "Bitte geben Sie eine Temperatur (F) ein: 21\n",
        "21 Grad Fahrenheit entspricht -6,111111111111111 Grad Celsius\n",
        "Brr! Es ist kalt hier drinnen\n",
        "```"
      ],
      "metadata": {
        "id": "Sct1H94I5TYn"
      }
    },
    {
      "cell_type": "code",
      "source": [
        "# Dein Code hier"
      ],
      "metadata": {
        "id": "M2wRZPzY5pme"
      },
      "execution_count": null,
      "outputs": []
    },
    {
      "cell_type": "markdown",
      "source": [
        "### Übung 3\n",
        "\n",
        "Schreibe ein Programm, das nach dem Stundenlohn, den Arbeitsstunden und dem Wochentag fragt. Das Programm sollte dann den Tageslohn ausgeben, der dem Stundenlohn multipliziert mit den geleisteten Arbeitsstunden entspricht, außer an Sonntagen, wenn der Stundenlohn verdoppelt wird.\n",
        "\n",
        "```\n",
        "Stundenlohn: 8,5\n",
        "Geleistete Stunden: 3\n",
        "Tag der Woche: Montag\n",
        "Tageslohn: 25,5 Euro\n",
        "```\n",
        "\n",
        "```\n",
        "Stundenlohn: 12,5\n",
        "Geleistete Arbeitsstunden: 10\n",
        "Tag der Woche: Sonntag\n",
        "Tageslohn: 250,0 Euro\n",
        "```"
      ],
      "metadata": {
        "id": "nkEaFCTc5rDb"
      }
    },
    {
      "cell_type": "code",
      "source": [
        "# Dein Code hier"
      ],
      "metadata": {
        "id": "hFK4XMKU53qN"
      },
      "execution_count": null,
      "outputs": []
    },
    {
      "cell_type": "markdown",
      "source": [
        "### Übung 4\n",
        "\n",
        "Dieses Programm berechnet den Bonus, den ein Kunde am Jahresende auf seiner Kundenkarte erhält. Der Bonus wird nach der folgenden Formel berechnet:\n",
        "\n",
        "Wenn weniger als hundert Punkte auf der Karte sind, beträgt der Bonus 10 %.\n",
        "In allen anderen Fällen beträgt der Bonus 15 %.\n",
        "Das Programm sollte wie folgt funktionieren:\n",
        "\n",
        "```\n",
        "Wie viele Punkte befinden sich auf Ihrer Karte? 55\n",
        "Ihr Bonus beträgt 10 %.\n",
        "Sie haben jetzt 60,5 Punkte\n",
        "```\n",
        "Es gibt jedoch ein Problem mit dem Programm, so dass es bei einigen Eingaben nicht ganz richtig funktioniert:\n",
        "\n",
        "```\n",
        "Wie viele Punkte befinden sich auf Ihrer Karte? 95\n",
        "Ihr Bonus beträgt 10 %.\n",
        "Ihr Bonus beträgt 15 %.\n",
        "Sie haben jetzt 120.175 Punkte\n",
        "```\n",
        "Ändere das Programm so, dass es immer entweder einen 10 %- oder einen 15%-Bonus gibt, aber nie beides.\n"
      ],
      "metadata": {
        "id": "tg3Fgqc-6Nf0"
      }
    },
    {
      "cell_type": "code",
      "source": [
        "# Fix den Fehler im Programm\n",
        "points = int(input(\"Wie viele Punkte befinden sich auf Ihrer Karte? \"))\n",
        "if points < 100:\n",
        "    points *= 1.1\n",
        "    print(\"Ihr Bonus beträgt 10 %\")\n",
        "\n",
        "if points >= 100:\n",
        "    points *= 1.15\n",
        "    print(\"Ihr Bonus beträgt 15 %\")\n",
        "\n",
        "print(\"Sie haben jetzt \", points, \"Punkte\")"
      ],
      "metadata": {
        "id": "cuFZ6z_i6ofK"
      },
      "execution_count": null,
      "outputs": []
    },
    {
      "cell_type": "markdown",
      "source": [
        "### Übung 5\n",
        "\n",
        "Schreube ein Programm, das nach der morgigen Wettervorhersage fragt und dann wetterangepasste Kleidung vorschlägt.\n",
        "\n",
        "Der Vorschlag sollte sich ändern, wenn die Temperatur (gemessen in Grad Celsius) über 20, 10 oder 5 Grad liegt, und auch, wenn Regen auf dem Radar zu sehen ist.\n",
        "\n",
        "Einige Beispiele für das erwartete Verhalten:\n",
        "\n",
        "```\n",
        "Wie lautet die Wettervorhersage für morgen?\n",
        "Temperatur: 21\n",
        "Wird es regnen (ja/nein): nein\n",
        "Trage Jeans und ein T-Shirt\n",
        "```\n",
        "```\n",
        "Wie ist die Wettervorhersage für morgen?\n",
        "Temperatur: 11\n",
        "Wird es regnen (ja/nein): nein\n",
        "Tragen Sie Jeans und ein T-Shirt\n",
        "Ich empfehle auch einen Pullover\n",
        "```\n",
        "```\n",
        "Wie ist die Wettervorhersage für morgen?\n",
        "Temperatur: 7\n",
        "Wird es regnen (ja/nein): nein\n",
        "Tragen Sie Jeans und ein T-Shirt\n",
        "Ich empfehle auch einen Pullover\n",
        "Nehmen Sie eine Jacke mit\n",
        "```\n",
        "```\n",
        "Wie ist die Wettervorhersage für morgen?\n",
        "Temperatur: 3\n",
        "Wird es regnen (ja/nein): ja\n",
        "Tragen Sie Jeans und ein T-Shirt\n",
        "Ich empfehle auch einen Pullover\n",
        "Nehmen Sie eine Jacke mit\n",
        "Es sollte eine warme Jacke sein.\n",
        "Ich denke, Handschuhe sind in Ordnung\n",
        "Vergessen Sie Ihren Regenschirm nicht\n",
        "```"
      ],
      "metadata": {
        "id": "Tv2elh1a61iT"
      }
    },
    {
      "cell_type": "code",
      "source": [
        "# Dein Code hier"
      ],
      "metadata": {
        "id": "GoK8kqPe7VLi"
      },
      "execution_count": null,
      "outputs": []
    }
  ]
}