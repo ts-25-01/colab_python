{
  "nbformat": 4,
  "nbformat_minor": 0,
  "metadata": {
    "colab": {
      "provenance": [],
      "authorship_tag": "ABX9TyMO/wvLO4PDfywncUSFgzKu",
      "include_colab_link": true
    },
    "kernelspec": {
      "name": "python3",
      "display_name": "Python 3"
    },
    "language_info": {
      "name": "python"
    }
  },
  "cells": [
    {
      "cell_type": "markdown",
      "metadata": {
        "id": "view-in-github",
        "colab_type": "text"
      },
      "source": [
        "<a href=\"https://colab.research.google.com/github/ts-25-01/colab_python/blob/main/datatypes.ipynb\" target=\"_parent\"><img src=\"https://colab.research.google.com/assets/colab-badge.svg\" alt=\"Open In Colab\"/></a>"
      ]
    },
    {
      "cell_type": "markdown",
      "source": [
        "# Datentypen in Python\n",
        "Es gibt verschiedene Arten von Datentypen. Datentypen bestimmen die Form dessen, was in der Variablen gespeichert\n",
        "**einfache Datentypen#**\n",
        "- Float (Fließkommazahl, also eine Kommazahl wie $3.14$)\n",
        "- Integer (Ganzzahlen, also eine Zahl ohne Komma, wie $42$)\n",
        "- String (Für Text, wie Namen oder Sätze, z.B. \"Hallo Welt\", \"Theo\")\n",
        "- Boolean (Wahrheitswert, der kann entweder TRUE oder FALSE sein)\n",
        "\n",
        "**komplexe Datentypen**\n",
        "- Liste (eine Liste an Werten, wie z.B. eine Einkaufsliste\n",
        "- Tupel (eine Liste mit der Besonderheit, dass die Werte nicht mehr verändert werden können)\n",
        "- Set (Menge, ungeordnete Sammlung von eindeutigen Werten)\n",
        "- Dictionary (Eine Liste, nur mit Schlüssel-Wert-Paaren (Key-Value), z.B. {\"id\": 1, \"beschreibung\": \"Kochen\"})"
      ],
      "metadata": {
        "id": "oS1S8IhI_A4e"
      }
    },
    {
      "cell_type": "markdown",
      "source": [
        "### Implementierung in Python\n",
        "\n",
        "**Duck Typing**\n",
        "Wenn es aussieht wie eine Ente, sich verhält wie ne Ente, dann gehen wir davon aus, dass es ne Ente ist.\n",
        "\n"
      ],
      "metadata": {
        "id": "3ZsYevMD_DbH"
      }
    },
    {
      "cell_type": "code",
      "source": [
        "a = 5\n",
        "b = 3.14\n",
        "c = \"Hallo Welt\"\n",
        "d = True\n",
        "liste = [1,2,3]\n",
        "t = (3.3, 2.0) # z.B. Koordinaten\n",
        "menge = {\"Brot\", \"Butter\", \"Milch\"} # z.B. Einkaufsliste\n",
        "dictionary = {\"name\": \"helen\", \"alter\": 27}"
      ],
      "metadata": {
        "id": "4aq7vjghCLfB"
      },
      "execution_count": 18,
      "outputs": []
    },
    {
      "cell_type": "markdown",
      "source": [
        "Es gibt eine eingebaute Funktion in Python, mit der ich überprüfen kann, welchen Typ eine Variable hat"
      ],
      "metadata": {
        "id": "J4eizubMDPsp"
      }
    },
    {
      "cell_type": "code",
      "source": [
        "print(type(a))\n",
        "print(type(b))\n",
        "print(type(c))\n",
        "print(type(d))\n",
        "print(type(liste))\n",
        "print(type(t))\n",
        "print(type(menge))\n",
        "print(type(dictionary))"
      ],
      "metadata": {
        "colab": {
          "base_uri": "https://localhost:8080/"
        },
        "id": "1tFbe-5EDYvf",
        "outputId": "1eceb1d0-3b12-4712-f80d-21b59a605042"
      },
      "execution_count": 19,
      "outputs": [
        {
          "output_type": "stream",
          "name": "stdout",
          "text": [
            "<class 'int'>\n",
            "<class 'float'>\n",
            "<class 'str'>\n",
            "<class 'bool'>\n",
            "<class 'list'>\n",
            "<class 'tuple'>\n",
            "<class 'set'>\n",
            "<class 'dict'>\n"
          ]
        }
      ]
    },
    {
      "cell_type": "markdown",
      "source": [
        "Wir müssen darauf achten, wenn wir Variablen miteinander vergleichen oder andere Operationen wie Addition (+) auf diese Variablen anwenden."
      ],
      "metadata": {
        "id": "J2BmIZPrExHV"
      }
    },
    {
      "cell_type": "code",
      "source": [
        "# print(a+c)\n",
        "# print(a<c)\n",
        "print(str(a)+c)"
      ],
      "metadata": {
        "colab": {
          "base_uri": "https://localhost:8080/"
        },
        "id": "gJ6ejMExE5Zv",
        "outputId": "8c3e32c4-60ce-4a3b-9a86-9574b9b5f2ba"
      },
      "execution_count": 24,
      "outputs": [
        {
          "output_type": "stream",
          "name": "stdout",
          "text": [
            "5Hallo Welt\n"
          ]
        }
      ]
    }
  ]
}