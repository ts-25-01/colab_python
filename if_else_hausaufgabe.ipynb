{
  "nbformat": 4,
  "nbformat_minor": 0,
  "metadata": {
    "colab": {
      "provenance": [],
      "include_colab_link": true
    },
    "kernelspec": {
      "name": "python3",
      "display_name": "Python 3"
    },
    "language_info": {
      "name": "python"
    }
  },
  "cells": [
    {
      "cell_type": "markdown",
      "metadata": {
        "id": "view-in-github",
        "colab_type": "text"
      },
      "source": [
        "<a href=\"https://colab.research.google.com/github/ts-25-01/colab_python/blob/main/if_else_hausaufgabe.ipynb\" target=\"_parent\"><img src=\"https://colab.research.google.com/assets/colab-badge.svg\" alt=\"Open In Colab\"/></a>"
      ]
    },
    {
      "cell_type": "markdown",
      "source": [
        "# Hausaufgabe\n",
        "Heute haben wir uns mit den Kontrollstrukturen in Python beschäftigt.\n",
        "Im Zuge dessen bearbeitest du heute Nachmittag weitere kleine Aufgaben zu diesem Thema. Nimm dieses Notebook und füge deinen Code hinzu an den passenden Stellen.\n",
        "**Abgabe**: Gehe oben links auf Datei, dann auf Herunterladen, dann auf .ipynb. Dann startet ein Download des Notebooks. Diese heruntergeladene Datei fügst du bitte als Abgabe in den Classroom ein.\n",
        "\n"
      ],
      "metadata": {
        "id": "32gVnQpZ7mQz"
      }
    },
    {
      "cell_type": "markdown",
      "source": [
        "## if-else\n",
        "### Aufgabe 1 (BMI-Index)\n",
        "Berechne den Body-Mass-Index (BMI) und klassifiziere ihn:\n",
        "- < 18.5: Untergewicht\n",
        "- 18.5 - 24.9: Normalgewicht\n",
        "- 25 - 29.9: Übergewicht\n",
        "- 30+: Adipositas\n",
        "\n",
        "Zusatzaufgabe: Füge eine input-Funktion hinzu, damit du beim Ausführen des Codes, eine Eingabe tätigen kannst.\n",
        "Hinweis: `kg = float(input(\"Bitte gib dein Gewicht ein: \"))`"
      ],
      "metadata": {
        "id": "9pZQdBfN8GDV"
      }
    },
    {
      "cell_type": "code",
      "source": [
        "Gewicht = float(input(\"Bitte gib dein Gewicht in kg ein:\"))\n",
        "Grösse = float(input(\"Bitte gib deine Größe in Metern ein:\"))\n",
        "\n",
        "BMI = Gewicht / (Grösse ** 2)\n",
        "\n",
        "\n",
        "\n",
        "\n",
        "if BMI < 18.5:\n",
        "  Überprüfung = \"Untergewicht\"\n",
        "elif BMI < 25:\n",
        "    Überprüfung = \"Normalgewicht\"\n",
        "elif BMI < 30:\n",
        "      Überprüfung = \"Übergewicht\"\n",
        "else:\n",
        "        Überprüfung = \"Adipositas\"\n",
        "\n",
        "print(\"BMI ist:\", round(BMI, 2))\n",
        "print(\"BMI - Prüfung:\", Überprüfung)\n",
        "\n",
        "\n"
      ],
      "metadata": {
        "id": "54YQr9hA8i95",
        "colab": {
          "base_uri": "https://localhost:8080/"
        },
        "outputId": "a0e888da-b304-4010-a52d-2bba046bae43"
      },
      "execution_count": 74,
      "outputs": [
        {
          "output_type": "stream",
          "name": "stdout",
          "text": [
            "Bitte gib dein Gewicht in kg ein:60\n",
            "Bitte gib deine Größe in Metern ein:1.54\n",
            "BMI ist: 25.3\n",
            "BMI - Prüfung: Übergewicht\n"
          ]
        }
      ]
    },
    {
      "cell_type": "code",
      "source": [
        "zahl = 6\n",
        "if ((zahl % 3) == 0):\n",
        "  print(\"Zahl ist durch 3 teilbar\")\n",
        "else:\n",
        "  print(\"Zahl ist nicht durch 3 teilbar\")"
      ],
      "metadata": {
        "colab": {
          "base_uri": "https://localhost:8080/"
        },
        "id": "U1Vm_NNfGWMi",
        "outputId": "b933e2c4-8a3d-4f33-f962-1411a48f6acf"
      },
      "execution_count": null,
      "outputs": [
        {
          "output_type": "stream",
          "name": "stdout",
          "text": [
            "Zahl ist durch 3 teilbar\n"
          ]
        }
      ]
    },
    {
      "cell_type": "markdown",
      "source": [
        "### Aufgabe 2 (Schaltjahr)\n",
        "Ein Jahr ist ein Schaltjahr, wenn es durch 4 teilbar (Achtung: modulo-Operator) ist, außer es ist durch 100 teilbar – außer es ist durch 400 teilbar.\n",
        "\n",
        "Zusatzaufgabe: Füge eine input-Funktion hinzu, damit du beim Ausführen des Codes, eine Eingabe tätigen kannst."
      ],
      "metadata": {
        "id": "Tz0qkYnt8jIk"
      }
    },
    {
      "cell_type": "code",
      "source": [
        "jahr = int(input(\"Gib ein Jahr ein: \"))\n",
        "\n",
        "jahr = int(input(\"Gib ein Jahr ein: \"))\n",
        "\n",
        "if (jahr % 4 == 0 and jahr % 100 != 0) or (jahr % 400 == 0):\n",
        "  print(\"Schaltjahr\")\n",
        "else:\n",
        "    print(\" kein Schaltjahr\")"
      ],
      "metadata": {
        "id": "Yj2Kb2rG8rhM",
        "colab": {
          "base_uri": "https://localhost:8080/"
        },
        "outputId": "9a8451fc-d8f1-4ea5-8b96-7ead99306a21"
      },
      "execution_count": 51,
      "outputs": [
        {
          "output_type": "stream",
          "name": "stdout",
          "text": [
            "Gib ein Jahr ein: 1966\n",
            "Gib ein Jahr ein: 1956\n",
            "Schaltjahr\n"
          ]
        }
      ]
    },
    {
      "cell_type": "markdown",
      "source": [
        "### Aufgabe 3 (Rabatt)\n",
        "Wenn ein Einkaufswert über 100€ liegt, gibt es 10% Rabatt, ansonsten keinen. Berechne den Endpreis.\n",
        "Zusatzaufgabe: Füge eine input-Funktion hinzu, damit du beim Ausführen des Codes, eine Eingabe tätigen kannst."
      ],
      "metadata": {
        "id": "aIckDaYu8sBi"
      }
    },
    {
      "cell_type": "code",
      "source": [
        "Summe = float(input(\"Gib die Summe ein:\"))\n",
        "Summe = float(input(\"Gib die Summe ein:\"))\n",
        "if Summe > 100:\n",
        "  print(\"Der Endpreis ist: \", Summe * 0.9)\n",
        "else:\n",
        "  print(\"Der Endpreis ist: \", Summe)"
      ],
      "metadata": {
        "colab": {
          "base_uri": "https://localhost:8080/"
        },
        "id": "L3PS0BrlhXwp",
        "outputId": "93889663-71aa-4c65-bb28-734c095364cc"
      },
      "execution_count": 53,
      "outputs": [
        {
          "output_type": "stream",
          "name": "stdout",
          "text": [
            "Gib die Summe ein:120\n",
            "Gib die Summe ein:120\n",
            "Der Endpreis ist:  108.0\n"
          ]
        }
      ]
    },
    {
      "cell_type": "code",
      "source": [],
      "metadata": {
        "id": "iplaWFpB8ycy"
      },
      "execution_count": null,
      "outputs": []
    },
    {
      "cell_type": "markdown",
      "source": [
        "## Datentypen\n",
        "### Aufgabe 1\n",
        "Initialisiere Variablen mit den Werten\n",
        "- 42\n",
        "- 3.14\n",
        "- \"Hallo Welt\"\n",
        "- True\n",
        "- [1,2,3]\n",
        "- (1,2)\n",
        "- {\"name\": \"Max\", \"alter\": 22}\n"
      ],
      "metadata": {
        "id": "Em4WQGm888Mc"
      }
    },
    {
      "cell_type": "code",
      "source": [],
      "metadata": {
        "id": "oNgOCNU_sYNO"
      },
      "execution_count": null,
      "outputs": []
    },
    {
      "cell_type": "code",
      "source": [
        "\n",
        "\n",
        "\n",
        "a = 42\n",
        "b = 3.14\n",
        "c = \"Hallo Welt\"\n",
        "d = True\n",
        "liste = [1,2,3]\n",
        "t = (1,2)\n",
        "dictionary = {\"name\":\"Max\", \"alter\": 22}\n",
        "\n",
        "\n",
        "print(type(a))\n",
        "print(type(b))\n",
        "print(type(c))\n",
        "print(type(d))\n",
        "print(type(liste))\n",
        "print(type(t))\n",
        "print(type(dictionary))"
      ],
      "metadata": {
        "id": "JOudTf8Q9aPJ",
        "colab": {
          "base_uri": "https://localhost:8080/"
        },
        "outputId": "ae924665-79ed-4b92-be6f-42c22a22a9e5"
      },
      "execution_count": 57,
      "outputs": [
        {
          "output_type": "stream",
          "name": "stdout",
          "text": [
            "<class 'int'>\n",
            "<class 'float'>\n",
            "<class 'str'>\n",
            "<class 'bool'>\n",
            "<class 'list'>\n",
            "<class 'tuple'>\n",
            "<class 'dict'>\n"
          ]
        }
      ]
    },
    {
      "cell_type": "markdown",
      "source": [
        "### Aufgabe 2\n",
        "Bestimme jeweils um welche Art des Datentyps es sich handelt"
      ],
      "metadata": {
        "id": "gnrmw0w79abL"
      }
    },
    {
      "cell_type": "markdown",
      "source": [
        " - a = int\n",
        " - b = float\n",
        " - c = str\n",
        " - d = bool\n",
        " - e = list\n",
        " - f = tuple\n",
        " - g = dict"
      ],
      "metadata": {
        "id": "uM-IpReO9b_R"
      }
    },
    {
      "cell_type": "markdown",
      "source": [
        "### Aufgabe 3\n",
        "Recherchiere nach dem Begriff Duck Typing in Python. Was bedeutet das?"
      ],
      "metadata": {
        "id": "Q1HHvqkv9cgx"
      }
    },
    {
      "cell_type": "markdown",
      "source": [
        "\n",
        "# Duck Typing\n",
        "\n",
        " - ist ein Konzept in der Programmierung\n",
        " - wird gerne in Python verwendet\n",
        " - bedeutet, dass man sich auf das Verhalten eines Objekts, anstatt auf seinen spezifischen Typ konzentriert\n",
        "\n",
        " ### Vorteile\n",
        "  - hat den Vorteil Felxibel zu sein\n",
        "  - erhöt Fehler im Programm zu finden\n",
        "  - Wiederverwendbarkeit\n",
        "  - verkürzte Entwicklungszeit\n",
        "\n"
      ],
      "metadata": {
        "id": "mOfhQQUK9lhu"
      }
    }
  ]
}