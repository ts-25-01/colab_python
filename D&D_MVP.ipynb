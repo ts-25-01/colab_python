{
  "nbformat": 4,
  "nbformat_minor": 0,
  "metadata": {
    "colab": {
      "provenance": [],
      "include_colab_link": true
    },
    "kernelspec": {
      "name": "python3",
      "display_name": "Python 3"
    },
    "language_info": {
      "name": "python"
    }
  },
  "cells": [
    {
      "cell_type": "markdown",
      "metadata": {
        "id": "view-in-github",
        "colab_type": "text"
      },
      "source": [
        "<a href=\"https://colab.research.google.com/github/ts-25-01/colab_python/blob/main/D%26D_MVP.ipynb\" target=\"_parent\"><img src=\"https://colab.research.google.com/assets/colab-badge.svg\" alt=\"Open In Colab\"/></a>"
      ]
    },
    {
      "cell_type": "markdown",
      "source": [
        "# 🏰 D&D Abenteuer\n",
        "## Die verborgene Sprache der Götter\n",
        "In den dampfenden Regenwäldern der Smaragdküste liegt das Königreich Bytea, eine blühende Zivilisation, in der sich Magie und Technologie vermischen. Die Menschen hier verehren die alten Kodex-Götter, deren Schriften in einer vergessenen Sprache verfasst sind – einer Sprache, von der es heißt, sie könne den Geist erleuchten und das Universum formen. Doch nur wenige sind in der Lage, diese Sprache zu entziffern.\n",
        "\n",
        "Seit Jahrhunderten herrscht Frieden, doch dunkle Mächte drohen, das Gleichgewicht zu stören. Der uralte Bug-König Segfault, ein korrupter Magier, der einst ein brillanter Gelehrter der Kodex-Götter war, hat das sagenumwobene Script der unendlichen Schleife gestohlen. Mit diesem Artefakt kann er das Gefüge der Realität verzerren und die Zeit in ewiger Wiederholung fangen.\n",
        "\n",
        "Eine Prophezeiung besagt, dass nur jene, die das verlorene Wissen der Kodex-Götter meistern, Segfault aufhalten können. Und hier beginnt eure Reise.\n"
      ],
      "metadata": {
        "id": "rC0ulGGrX2BD"
      }
    },
    {
      "cell_type": "markdown",
      "source": [
        "## Kapitel 1\n"
      ],
      "metadata": {
        "id": "0-Dhzgg7zMrD"
      }
    },
    {
      "cell_type": "markdown",
      "source": [
        "### 🔹 Was werden wir anwenden?\n",
        "1. **Charaktere erstellen** (Variablen, Dictionaries, input())\n",
        "2. **Würfelsystem & Kampf** (random, Schleifen, Funktionen)\n",
        "3. **Erkundung & Zufallsereignisse** (Listen, Verzweigungen)\n",
        "4. **Inventar & Items** (Listen, Manipulation)\n",
        "5. **Eine Quest mit Entscheidungen** (if-elif-else, Verzweigungen)\n",
        "\n",
        "Lass uns anfangen! 🎲"
      ],
      "metadata": {
        "id": "vNVRmTN1X9Z7"
      }
    },
    {
      "cell_type": "markdown",
      "source": [
        "## 🎭 1. Charaktererstellung\n",
        "Unser Charakter soll folgende Attribute haben\n",
        "```python\n",
        "character = {\n",
        "  \"name\": input\n",
        "  \"klasse\": input\n",
        "  \"spezies\": input\n",
        "  \"Geschick\": random(5,20)\n",
        "  \"Intelligenz\": random(5,20)\n",
        "  \"Stärke\": random(5,20)\n",
        "  \"HP\": 20\n",
        "}\n"
      ],
      "metadata": {
        "id": "trQFt6lcYP-_"
      }
    },
    {
      "cell_type": "code",
      "source": [
        "import random\n",
        "\n",
        "inventory_list = [\n",
        "    \"⚔️ Rostiges Eisenschwert\",\n",
        "    \"🛡️ Klapprige Holzrüstung\",\n",
        "    \"🪵 Durchlöchertes Holzschild\",\n",
        "    \"🔪 Stumpfes Messer\",\n",
        "    \"🧪 Abgelaufener Lebenstrank\",\n",
        "    \"🍵 Schimmeliger Zaubertrank\",\n",
        "    \"💀 Stinkender Heiltrank\"\n",
        "]\n",
        "\n",
        "def create_character():\n",
        "  print(\"🎭 Erstelle deinen Charakter\")\n",
        "  name = input(\"Wie heißt dein Held? \")\n",
        "  klasse = input(\"Was ist deine Klasse? \")\n",
        "  spezies = input(\"Was ist deine Spezies? \")\n",
        "  character = {\n",
        "      \"Name\": name,\n",
        "      \"Klasse\": klasse,\n",
        "      \"Spezies\": spezies,\n",
        "      \"Angriff\": random.randint(5, 20),\n",
        "      \"HP\": 20,\n",
        "      \"Inventar\": random.choices(inventory_list, k=2)\n",
        "  }\n",
        "  #print(f\"Dein Charakter wurde erstellt!\")\n",
        "  return character\n",
        "\n",
        "player = create_character()\n",
        "# print(f\"Mein Name ist {player['Name']}, dabei bin ich von der Klasse {player['Klasse']} und habe {player['Stärke']} Stärke\")\n",
        "#print(player[\"Name\"])\n",
        "print(\"\\nDein Charakter:\")\n",
        "for key, value in player.items():\n",
        "  print(f\"{key}: {value}\")"
      ],
      "metadata": {
        "colab": {
          "base_uri": "https://localhost:8080/"
        },
        "id": "FQXrKmLCYcd1",
        "outputId": "c942ad65-2734-403e-9b99-c8cb659b3e12"
      },
      "execution_count": 9,
      "outputs": [
        {
          "output_type": "stream",
          "name": "stdout",
          "text": [
            "🎭 Erstelle deinen Charakter\n",
            "Wie heißt dein Held? Theo\n",
            "Was ist deine Klasse? Krieger\n",
            "Was ist deine Spezies? Mensch\n",
            "\n",
            "Dein Charakter:\n",
            "Name: Theo\n",
            "Klasse: Krieger\n",
            "Spezies: Mensch\n",
            "Angriff: 20\n",
            "HP: 20\n",
            "Inventar: ['🍵 Schimmeliger Zaubertrank', '🍵 Schimmeliger Zaubertrank']\n"
          ]
        }
      ]
    },
    {
      "cell_type": "markdown",
      "source": [
        "## 💀 2. Gegnererstellung\n",
        "- Dictionary\n",
        "```python\n",
        "enemy_list = [\n",
        "  {\"Name\": \"stinkender Ork\", \"Angriff\": random(5,15), \"HP\": random(5,20)},\n",
        "  {\"Name\": \"windige Schlange\", \"Angriff\": random(5,15), \"HP\": random(5,20)},\n",
        "  {\"Name\": \"runzeliges Warzenschwein\", \"Angriff\": random(5,15), \"HP\": random(5,20)},\n",
        "  {\"Name\": \"winziger Goblin\", \"Angriff\": random(5,15), \"HP\": random(5,20)}\n",
        "   ]\n",
        "```\n",
        "- Liste an Gegnern\n",
        "- Funktion mit zufälliger Wahl an Gegnern"
      ],
      "metadata": {
        "id": "fMvEyO8pYclV"
      }
    },
    {
      "cell_type": "code",
      "source": [
        "import random\n",
        "\n",
        "enemy_list = [\n",
        "  {\"Name\": \"🤢👹 stinkender Ork\", \"Angriff\": random.randint(5,15), \"HP\": random.randint(5,20)},\n",
        "  {\"Name\": \"🐍💨 windige Schlange\", \"Angriff\": random.randint(5,15), \"HP\": random.randint(5,20)},\n",
        "  {\"Name\": \"🐗🧐 runzeliges Warzenschwein\", \"Angriff\": random.randint(5,15), \"HP\": random.randint(5,20)},\n",
        "  {\"Name\": \"🧌🔍 winziger Goblin\", \"Angriff\": random.randint(5,15), \"HP\": random.randint(5,20)}\n",
        "   ]\n",
        "\n",
        "def create_enemy():\n",
        "  enemy = random.choice(enemy_list).copy()\n",
        "  return enemy\n",
        "\n",
        "enemy = create_enemy()\n",
        "for key, value in enemy.items():\n",
        "  print(f\"{key}: {value}\")"
      ],
      "metadata": {
        "colab": {
          "base_uri": "https://localhost:8080/"
        },
        "id": "e_aWWYZmYskN",
        "outputId": "04a9194b-d27f-4662-9fcb-c431a817aefa"
      },
      "execution_count": 10,
      "outputs": [
        {
          "output_type": "stream",
          "name": "stdout",
          "text": [
            "Name: 🐍💨 windige Schlange\n",
            "Angriff: 12\n",
            "HP: 18\n"
          ]
        }
      ]
    },
    {
      "cell_type": "markdown",
      "source": [
        "## 🎲 3. Würfelsystem"
      ],
      "metadata": {
        "id": "6SxV82BDYsrR"
      }
    },
    {
      "cell_type": "code",
      "source": [
        "import random\n",
        "\n",
        "def dice(sides):\n",
        "  return random.randint(1,sides)\n",
        "\n",
        "seiten = 8\n",
        "print(dice(seiten))"
      ],
      "metadata": {
        "colab": {
          "base_uri": "https://localhost:8080/"
        },
        "id": "WSvgWbmaY0FZ",
        "outputId": "d490046c-62fc-4cda-bca2-c7f89710f7e3"
      },
      "execution_count": 11,
      "outputs": [
        {
          "output_type": "stream",
          "name": "stdout",
          "text": [
            "7\n"
          ]
        }
      ]
    },
    {
      "cell_type": "markdown",
      "source": [
        "## ⚔️ 4. Kampf\n",
        "- Funktion zwischen Gegner und Spieler\n",
        "- Solange beide noch HP haben, soll der Schaden ausgewürfelt werden"
      ],
      "metadata": {
        "id": "t5hFyY0HY0ND"
      }
    },
    {
      "cell_type": "code",
      "source": [
        "character1 = create_character()\n",
        "\n",
        "print(character1)\n",
        "print(enemy1)"
      ],
      "metadata": {
        "colab": {
          "base_uri": "https://localhost:8080/"
        },
        "id": "NtmpUC6yGmM-",
        "outputId": "a96cb64c-abff-4ed2-cad6-7a5b1c7320d3"
      },
      "execution_count": 28,
      "outputs": [
        {
          "output_type": "stream",
          "name": "stdout",
          "text": [
            "🎭 Erstelle deinen Charakter\n",
            "Wie heißt dein Held? Theo\n",
            "Was ist deine Klasse? Krieger\n",
            "Was ist deine Spezies? Mensch\n",
            "{'Name': 'Theo', 'Klasse': 'Krieger', 'Spezies': 'Mensch', 'Angriff': 19, 'HP': 20, 'Inventar': ['🧪 Abgelaufener Lebenstrank', '💀 Stinkender Heiltrank']}\n",
            "{'Name': '🤢👹 stinkender Ork', 'Angriff': 9, 'HP': -3}\n"
          ]
        }
      ]
    },
    {
      "cell_type": "code",
      "source": [
        "enemy1 = create_enemy()"
      ],
      "metadata": {
        "id": "hBwjiUyVKcJg"
      },
      "execution_count": 32,
      "outputs": []
    },
    {
      "cell_type": "code",
      "source": [
        "def kampf(character, enemy):\n",
        "  print(f\"Du kämpfst gegen {enemy['Name']}\")\n",
        "\n",
        "  while character[\"HP\"] > 0 and enemy[\"HP\"] > 0:\n",
        "    # charakter greift an\n",
        "    schaden = dice(6)\n",
        "    print(f\"{character['Name']} würfelt: {schaden}\")\n",
        "\n",
        "    enemy[\"HP\"] -= schaden\n",
        "    print(enemy[\"HP\"])\n",
        "\n",
        "    # Überprüfen ob der Gegner besiegt wurde\n",
        "    if enemy[\"HP\"] <= 0:\n",
        "      print(\"Du hast gewonnen\")\n",
        "      break\n",
        "\n",
        "    schaden_gegner = dice(4)\n",
        "    character[\"HP\"] -= schaden_gegner\n",
        "    print(f\"{enemy['Name']} würfelt: {schaden}\")\n",
        "\n",
        "    if character[\"HP\"] <= 0:\n",
        "      print(\"Charakter wurde besiegt!\")\n",
        "      break\n",
        "\n",
        "kampf(character1, enemy1)\n",
        "\n"
      ],
      "metadata": {
        "id": "as-4WLP1ZRvN",
        "colab": {
          "base_uri": "https://localhost:8080/"
        },
        "outputId": "147e598c-55bd-493a-98b5-3f0335a2b07d"
      },
      "execution_count": 33,
      "outputs": [
        {
          "output_type": "stream",
          "name": "stdout",
          "text": [
            "Du kämpfst gegen 🧌🔍 winziger Goblin\n",
            "Theo würfelt: 5\n",
            "2\n",
            "🧌🔍 winziger Goblin würfelt: 5\n",
            "Theo würfelt: 1\n",
            "1\n",
            "🧌🔍 winziger Goblin würfelt: 1\n",
            "Theo würfelt: 2\n",
            "-1\n",
            "Du hast gewonnen\n"
          ]
        }
      ]
    },
    {
      "cell_type": "markdown",
      "source": [
        "## 5. Inventar und Gegenstände\n",
        "- Inventar hinzufügen"
      ],
      "metadata": {
        "id": "XrBYELFJaYAR"
      }
    },
    {
      "cell_type": "code",
      "source": [],
      "metadata": {
        "id": "EsPD1ZNbafLm"
      },
      "execution_count": null,
      "outputs": []
    },
    {
      "cell_type": "markdown",
      "source": [
        "## 6. Erkundung und Zufallsereignisse\n",
        "- Dictionary mit zufälligen Erkundungen und jeweils ausgeführten Funktionen"
      ],
      "metadata": {
        "id": "cGAUQnZ9ZR1f"
      }
    },
    {
      "cell_type": "code",
      "source": [],
      "metadata": {
        "id": "wtdj0Gcbaesq"
      },
      "execution_count": null,
      "outputs": []
    },
    {
      "cell_type": "markdown",
      "source": [
        "## 7. Eine Quest mit Entscheidungen\n",
        "```python\n",
        "print(\"\\nDu stehst vor einer dunklen Höhle. Was tust du?\")\n",
        "print(\"1️⃣ Gehe hinein.\")\n",
        "print(\"2️⃣ Laufe weiter.\")\n",
        "\n",
        "wahl = input(\"Wähle 1 oder 2: \")\n",
        "\n",
        "if wahl == \"1\":\n",
        "    print(\"Du betrittst die Höhle\")\n",
        "    // Random Choice aus dem Ereignis-Dict\n",
        "elif wahl == \"2\":\n",
        "    print(\"Du gehst weiter und findest eine sichere Stelle zum Ausruhen. 🏕️\")\n",
        "    // Random Choice aus dem Eregnis-Dict\n",
        "else:\n",
        "    print(\"Du hast nichts getan und bist stehen geblieben. 😴\")\n",
        "```\n"
      ],
      "metadata": {
        "id": "7bTNxlOjaftG"
      }
    }
  ]
}