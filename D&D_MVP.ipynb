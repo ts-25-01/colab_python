{
  "nbformat": 4,
  "nbformat_minor": 0,
  "metadata": {
    "colab": {
      "provenance": [],
      "include_colab_link": true
    },
    "kernelspec": {
      "name": "python3",
      "display_name": "Python 3"
    },
    "language_info": {
      "name": "python"
    }
  },
  "cells": [
    {
      "cell_type": "markdown",
      "metadata": {
        "id": "view-in-github",
        "colab_type": "text"
      },
      "source": [
        "<a href=\"https://colab.research.google.com/github/ts-25-01/colab_python/blob/main/D%26D_MVP.ipynb\" target=\"_parent\"><img src=\"https://colab.research.google.com/assets/colab-badge.svg\" alt=\"Open In Colab\"/></a>"
      ]
    },
    {
      "cell_type": "markdown",
      "source": [
        "# 🏰 D&D Abenteuer\n",
        "## Die verborgene Sprache der Götter\n",
        "In den dampfenden Regenwäldern der Smaragdküste liegt das Königreich Bytea, eine blühende Zivilisation, in der sich Magie und Technologie vermischen. Die Menschen hier verehren die alten Kodex-Götter, deren Schriften in einer vergessenen Sprache verfasst sind – einer Sprache, von der es heißt, sie könne den Geist erleuchten und das Universum formen. Doch nur wenige sind in der Lage, diese Sprache zu entziffern.\n",
        "\n",
        "Seit Jahrhunderten herrscht Frieden, doch dunkle Mächte drohen, das Gleichgewicht zu stören. Der uralte Bug-König Segfault, ein korrupter Magier, der einst ein brillanter Gelehrter der Kodex-Götter war, hat das sagenumwobene Script der unendlichen Schleife gestohlen. Mit diesem Artefakt kann er das Gefüge der Realität verzerren und die Zeit in ewiger Wiederholung fangen.\n",
        "\n",
        "Eine Prophezeiung besagt, dass nur jene, die das verlorene Wissen der Kodex-Götter meistern, Segfault aufhalten können. Und hier beginnt eure Reise.\n"
      ],
      "metadata": {
        "id": "rC0ulGGrX2BD"
      }
    },
    {
      "cell_type": "markdown",
      "source": [
        "## Kapitel 1\n"
      ],
      "metadata": {
        "id": "0-Dhzgg7zMrD"
      }
    },
    {
      "cell_type": "markdown",
      "source": [
        "### 🔹 Was werden wir anwenden?\n",
        "1. **Charaktere erstellen** (Variablen, Dictionaries, input())\n",
        "2. **Würfelsystem & Kampf** (random, Schleifen, Funktionen)\n",
        "3. **Erkundung & Zufallsereignisse** (Listen, Verzweigungen)\n",
        "4. **Inventar & Items** (Listen, Manipulation)\n",
        "5. **Eine Quest mit Entscheidungen** (if-elif-else, Verzweigungen)\n",
        "\n",
        "Lass uns anfangen! 🎲"
      ],
      "metadata": {
        "id": "vNVRmTN1X9Z7"
      }
    },
    {
      "cell_type": "markdown",
      "source": [
        "## 🎭 1. Charaktererstellung\n",
        "Unser Charakter soll folgende Attribute haben\n",
        "```python\n",
        "character = {\n",
        "  \"name\": input\n",
        "  \"klasse\": input\n",
        "  \"spezies\": input\n",
        "  \"Geschick\": random(5,20)\n",
        "  \"Intelligenz\": random(5,20)\n",
        "  \"Stärke\": random(5,20)\n",
        "  \"HP\": 20\n",
        "}\n"
      ],
      "metadata": {
        "id": "trQFt6lcYP-_"
      }
    },
    {
      "cell_type": "code",
      "source": [
        "import random\n",
        "\n",
        "inventory_list = [\n",
        "    \"⚔️ Rostiges Eisenschwert\",\n",
        "    \"🛡️ Klapprige Holzrüstung\",\n",
        "    \"🪵 Durchlöchertes Holzschild\",\n",
        "    \"🔪 Stumpfes Messer\",\n",
        "    \"🧪 Abgelaufener Lebenstrank\",\n",
        "    \"🍵 Schimmeliger Zaubertrank\",\n",
        "    \"💀 Stinkender Heiltrank\"\n",
        "]\n",
        "\n",
        "def create_character():\n",
        "  print(\"🎭 Erstelle deinen Charakter\")\n",
        "  name = input(\"Wie heißt dein Held? \")\n",
        "  klasse = input(\"Was ist deine Klasse? \")\n",
        "  spezies = input(\"Was ist deine Spezies? \")\n",
        "  character = {\n",
        "      \"Name\": name,\n",
        "      \"Klasse\": klasse,\n",
        "      \"Spezies\": spezies,\n",
        "      \"Angriff\": random.randint(5, 20),\n",
        "      \"HP\": 20,\n",
        "      \"Inventar\": random.choices(inventory_list, k=2)\n",
        "  }\n",
        "  #print(f\"Dein Charakter wurde erstellt!\")\n",
        "  return character\n",
        "\n",
        "player = create_character()\n",
        "# print(f\"Mein Name ist {player['Name']}, dabei bin ich von der Klasse {player['Klasse']} und habe {player['Stärke']} Stärke\")\n",
        "#print(player[\"Name\"])\n",
        "print(\"\\nDein Charakter:\")\n",
        "for key, value in player.items():\n",
        "  print(f\"{key}: {value}\")"
      ],
      "metadata": {
        "colab": {
          "base_uri": "https://localhost:8080/"
        },
        "id": "FQXrKmLCYcd1",
        "outputId": "e3c2b10e-cafb-4f55-a43b-d690a928004f"
      },
      "execution_count": 20,
      "outputs": [
        {
          "output_type": "stream",
          "name": "stdout",
          "text": [
            "🎭 Erstelle deinen Charakter\n",
            "Wie heißt dein Held? Najat\n",
            "Was ist deine Klasse? Zauber\n",
            "Was ist deine Spezies? Zauber Familie\n",
            "\n",
            "Dein Charakter:\n",
            "Name: Najat\n",
            "Klasse: Zauber\n",
            "Spezies: Zauber Familie\n",
            "Angriff: 15\n",
            "HP: 20\n",
            "Inventar: ['🧪 Abgelaufener Lebenstrank', '⚔️ Rostiges Eisenschwert']\n"
          ]
        }
      ]
    },
    {
      "cell_type": "markdown",
      "source": [
        "## 💀 2. Gegnererstellung\n",
        "- Dictionary\n",
        "```python\n",
        "enemy_list = [\n",
        "  {\"Name\": \"stinkender Ork\", \"Angriff\": random(5,15), \"HP\": random(5,20)},\n",
        "  {\"Name\": \"windige Schlange\", \"Angriff\": random(5,15), \"HP\": random(5,20)},\n",
        "  {\"Name\": \"runzeliges Warzenschwein\", \"Angriff\": random(5,15), \"HP\": random(5,20)},\n",
        "  {\"Name\": \"winziger Goblin\", \"Angriff\": random(5,15), \"HP\": random(5,20)}\n",
        "   ]\n",
        "```\n",
        "- Liste an Gegnern\n",
        "- Funktion mit zufälliger Wahl an Gegnern"
      ],
      "metadata": {
        "id": "fMvEyO8pYclV"
      }
    },
    {
      "cell_type": "code",
      "source": [
        "import random\n",
        "\n",
        "enemy_list = [\n",
        "  {\"Name\": \"🤢👹 stinkender Ork\", \"Angriff\": random.randint(5,15), \"HP\": random.randint(5,20)},\n",
        "  {\"Name\": \"🐍💨 windige Schlange\", \"Angriff\": random.randint(5,15), \"HP\": random.randint(5,20)},\n",
        "  {\"Name\": \"🐗🧐 runzeliges Warzenschwein\", \"Angriff\": random.randint(5,15), \"HP\": random.randint(5,20)},\n",
        "  {\"Name\": \"🧌🔍 winziger Goblin\", \"Angriff\": random.randint(5,15), \"HP\": random.randint(5,20)}\n",
        "   ]\n",
        "\n",
        "def create_enemy():\n",
        "  enemy = random.choice(enemy_list).copy()\n",
        "  return enemy\n",
        "\n",
        "enemy1 = create_enemy()\n",
        "for key, value in enemy1.items():\n",
        "  print(f\"{key}: {value}\")"
      ],
      "metadata": {
        "colab": {
          "base_uri": "https://localhost:8080/"
        },
        "id": "e_aWWYZmYskN",
        "outputId": "5acdc257-bf46-4ee8-9547-ac36bcd44b39"
      },
      "execution_count": null,
      "outputs": [
        {
          "output_type": "stream",
          "name": "stdout",
          "text": [
            "Name: 🐍💨 windige Schlange\n",
            "Angriff: 14\n",
            "HP: 9\n"
          ]
        }
      ]
    },
    {
      "cell_type": "markdown",
      "source": [
        "## 🎲 3. Würfelsystem"
      ],
      "metadata": {
        "id": "6SxV82BDYsrR"
      }
    },
    {
      "cell_type": "code",
      "source": [
        "import random\n",
        "\n",
        "def dice(sides):\n",
        "  return random.randint(1,sides)\n",
        "\n",
        "seiten = 8\n",
        "print(dice(seiten))"
      ],
      "metadata": {
        "colab": {
          "base_uri": "https://localhost:8080/"
        },
        "id": "WSvgWbmaY0FZ",
        "outputId": "02e474e5-75ad-420f-dea5-a362add2fbf7"
      },
      "execution_count": null,
      "outputs": [
        {
          "output_type": "stream",
          "name": "stdout",
          "text": [
            "3\n"
          ]
        }
      ]
    },
    {
      "cell_type": "markdown",
      "source": [
        "## ⚔️ 4. Kampf\n",
        "- Funktion zwischen Gegner und Spieler\n",
        "- Solange beide noch HP haben, soll der Schaden ausgewürfelt werden"
      ],
      "metadata": {
        "id": "t5hFyY0HY0ND"
      }
    },
    {
      "cell_type": "code",
      "source": [
        "#player2 = create_character()\n",
        "#enemy2 = create_enemy()\n",
        "#print(enemy2)\n",
        "def kampf(character, enemy):\n",
        "  print(f\"Du kämpfst gegen {enemy['Name']}\")\n",
        "\n",
        "  while character[\"HP\"] > 0 and enemy[\"HP\"] > 0:\n",
        "    # charakter greift an\n",
        "    input(\"Drücke ENTER zum würfelnss\")\n",
        "    schaden = dice(6)\n",
        "    print(f\"{character['Name']} würfelt: {schaden}\")\n",
        "    print(f\"{enemy['Name']} nimmt {schaden} Schaden\")\n",
        "\n",
        "    enemy[\"HP\"] -= schaden\n",
        "    print(f\"{enemy['Name']} hat nun {enemy['HP']} HP\")\n",
        "\n",
        "    # Überprüfen ob der Gegner besiegt wurde\n",
        "    if enemy[\"HP\"] <= 0:\n",
        "      print(\"Du hast gewonnen\")\n",
        "      break\n",
        "\n",
        "    schaden_gegner = dice(4)\n",
        "    character[\"HP\"] -= schaden_gegner\n",
        "    print(f\"Dein {character['Name']} hat nun {character['HP']} HP\")\n",
        "    print(f\"{enemy['Name']} würfelt: {schaden}\")\n",
        "    print(f\"{character['Name']} nimmt {schaden} Schaden\")\n",
        "    print(\"-------------------\")\n",
        "\n",
        "    if character[\"HP\"] <= 0:\n",
        "      print(\"Charakter wurde besiegt!\")\n",
        "      break\n",
        "\n",
        "##kampf(player, enemy2)\n"
      ],
      "metadata": {
        "id": "as-4WLP1ZRvN"
      },
      "execution_count": null,
      "outputs": []
    },
    {
      "cell_type": "markdown",
      "source": [
        "## 5. Inventar und Gegenstände\n",
        "- Inventar hinzufügen"
      ],
      "metadata": {
        "id": "XrBYELFJaYAR"
      }
    },
    {
      "cell_type": "code",
      "source": [],
      "metadata": {
        "id": "EsPD1ZNbafLm"
      },
      "execution_count": null,
      "outputs": []
    },
    {
      "cell_type": "markdown",
      "source": [
        "## 6. Erkundung und Zufallsereignisse\n",
        "- Dictionary mit zufälligen Erkundungen und jeweils ausgeführten Funktionen"
      ],
      "metadata": {
        "id": "cGAUQnZ9ZR1f"
      }
    },
    {
      "cell_type": "code",
      "source": [],
      "metadata": {
        "id": "wtdj0Gcbaesq"
      },
      "execution_count": null,
      "outputs": []
    },
    {
      "cell_type": "markdown",
      "source": [
        "## 7. Eine Quest mit Entscheidungen\n",
        "\n"
      ],
      "metadata": {
        "id": "7bTNxlOjaftG"
      }
    },
    {
      "cell_type": "code",
      "source": [
        "import random\n",
        "print(\"GAME BEGINS\")\n",
        "print(\"Wähle zunächst einen Charakter: \")\n",
        "my_player = create_character()\n",
        "print(\"Nun beginnt deine Reise...\")\n",
        "print(\"\\nDu stehst vor einer dunklen Höhle. Was tust du?\")\n",
        "print(\"1️⃣ Gehe hinein.\")\n",
        "print(\"2️⃣ Laufe weiter.\")\n",
        "print(\"3️⃣Rufe nach Hilfe.\")\n",
        "wahl = input(\"Wähle 1,2 oder 3: \")\n",
        "if wahl == \"1\":\n",
        "    print(\"Du betrittst die Höhle\")\n",
        "    first_enemy = create_enemy()\n",
        "    print(\"Huch... Ein Gegner erscheint\")\n",
        "    print(f\"{first_enemy['Name']} fordert dich zum Kampf auf\")\n",
        "    kampf(my_player, first_enemy)\n",
        "elif wahl == \"2\":\n",
        "    print(\"Du gehst weiter und findest eine sichere Stelle zum Ausruhen. 🏕️\")\n",
        "    # Inventar zur Liste hinzufügen\n",
        "    new_inventory = random.choice(inventory_list)\n",
        "    print(f\"Oha, hier liegt ein {new_inventory} rum. Heb es doch auf!\")\n",
        "    input(\"Drücke ENTER, um das aufzuheben\")\n",
        "    my_player['Inventar'].append(new_inventory)\n",
        "    print(f\"Cool, dein Inventar besteht nun aus: {my_player['Inventar']}\")\n",
        "elif wahl == \"3\":\n",
        "    # jetzt passiert noch was anderes\n",
        "    print(\"Du rufst nach Hilfe.\")\n",
        "    print(\"Nach einer kurzen Weile erscheint ein weiser alter Mann.\")\n",
        "    print(\"Er bietet dir an, dir einen wertvollen Rat zu geben.\")\n",
        "    print(\"Was möchtest du tun?\")\n",
        "    print(\"1️⃣ Höre auf seinen Rat.\")\n",
        "    print(\"2️⃣ Ignoriere ihn und gehe weiter.\")\n",
        "    print(\"3️⃣ Nimm ihn als Komplizen.\")\n",
        "\n",
        "    rat_wahl = input(\"Wähle 1, 2 oder 3:\")\n",
        "\n",
        "if rat_wahl == \"1\":\n",
        "        print(\"Der alte Mann sagt: 'Sei vorsichtig, die Dunkelheit birgt viele Gefahren.'\")\n",
        "        print(\"Du fühlst dich ermutigt und bereit für das Abenteuer!\")\n",
        "elif rat_wahl == \"2\":\n",
        "        print(\"Du ignorierst den alten Mann und gehst weiter.\")\n",
        "        print(\"Vielleicht war das nicht die beste Entscheidung...\")\n",
        "\n",
        "elif rat_wahl == \"3\":\n",
        "        print(\"Der alte Mann sagt: Nimm mich als Komplizen und ich werde dir weiter helfen.\")\n",
        "        print(\"Du nimmst seinen Vorschlag an und kommst so sicher ans Ziel.\")\n",
        "\n",
        "\n",
        "else:\n",
        "        print(\"Der alte Mann schaut dich verwirrt an und geht weg.\")\n",
        "\n",
        "\n",
        "def abenteuer():\n",
        "    print(\"Nachdem du den alten Mann als Komplizen angenommen hast, spürst du sofort eine Welle des Vertrauens.\")\n",
        "    print(\"Er lächelt weise und führt dich durch einen geheimen Pfad, der von dichten Bäumen gesäumt ist.\")\n",
        "    print(\"„Dieser Weg ist sicher, aber wir müssen leise sein“, flüstert er.\")\n",
        "\n",
        "    print(\"\\nWährend ihr geht, erzählt er dir von den Herausforderungen, die vor euch liegen.\")\n",
        "    print(\"„Es gibt Wächter, die diesen Ort beschützen. Sie sind nicht leicht zu überlisten, aber ich kenne einige Tricks“, sagt er und zwinkert dir zu.\")\n",
        "\n",
        "    print(\"\\nPlötzlich hört ihr ein Geräusch. Der alte Mann zieht dich hinter einen Baum und sagt:\")\n",
        "    print(\"„Bleib ruhig. Wir müssen abwarten, bis die Wächter vorbeigehen.“\")\n",
        "    print(\"Du spürst das Adrenalin in deinen Adern, während ihr beide in der Dunkelheit lauert.\")\n",
        "\n",
        "    print(\"\\nNachdem die Wächter vorbeigezogen sind, führt dich der alte Mann weiter.\")\n",
        "    print(\"„Wir sind fast da“, sagt er. „Aber bevor wir das Ziel erreichen, musst du eine Entscheidung treffen.\")\n",
        "    print(\"Es gibt zwei Wege: Der eine führt direkt zum Schatz, aber er ist voller Gefahren.\")\n",
        "    print(\"Der andere ist sicherer, aber er könnte länger dauern.“\")\n",
        "\n",
        "    entscheidung = input(\"Wähle deinen Weg (1 für den riskanten Weg, 2 für den sicheren Weg): \")\n",
        "\n",
        "    if entscheidung == \"1\":\n",
        "        print(\"\\nDu hast den riskanten Weg gewählt!\")\n",
        "        print(\"Du und der alte Mann schleicht euch vorsichtig voran, aber plötzlich tauchen die Wächter auf!\")\n",
        "        print(\"Ihr müsst schnell handeln, um nicht entdeckt zu werden!\")\n",
        "\n",
        "    elif entscheidung == \"2\":\n",
        "        print(\"\\nDu hast den sicheren Weg gewählt!\")\n",
        "        print(\"Ihr geht langsam und vorsichtig weiter. Der alte Mann zeigt dir einige versteckte Pfade.\")\n",
        "        print(\"Nach einer Weile erreicht ihr einen geheimen Ort, wo ihr euch ausruhen könnt.\")\n",
        "\n",
        "    else:\n",
        "        print(\"\\nUngültige Eingabe. Bitte wähle 1 oder 2.\")\n",
        "\n",
        "\n",
        "abenteuer()\n",
        "\n",
        "\n",
        "\n",
        "\n",
        "\n",
        "\n",
        "\n",
        ""
      ],
      "metadata": {
        "colab": {
          "base_uri": "https://localhost:8080/"
        },
        "id": "e8Afro-wPp3C",
        "outputId": "c5388e44-4801-43b0-a96b-066ee6223821"
      },
      "execution_count": 22,
      "outputs": [
        {
          "output_type": "stream",
          "name": "stdout",
          "text": [
            "GAME BEGINS\n",
            "Wähle zunächst einen Charakter: \n",
            "🎭 Erstelle deinen Charakter\n",
            "Wie heißt dein Held? Najat\n",
            "Was ist deine Klasse? Zauber \n",
            "Was ist deine Spezies? Zauber Familie\n",
            "Nun beginnt deine Reise...\n",
            "\n",
            "Du stehst vor einer dunklen Höhle. Was tust du?\n",
            "1️⃣ Gehe hinein.\n",
            "2️⃣ Laufe weiter.\n",
            "3️⃣Rufe nach Hilfe.\n",
            "Wähle 1,2 oder 3: 3\n",
            "Du rufst nach Hilfe.\n",
            "Nach einer kurzen Weile erscheint ein weiser alter Mann.\n",
            "Er bietet dir an, dir einen wertvollen Rat zu geben.\n",
            "Was möchtest du tun?\n",
            "1️⃣ Höre auf seinen Rat.\n",
            "2️⃣ Ignoriere ihn und gehe weiter.\n",
            "3️⃣ Nimm ihn als Komplizen.\n",
            "Wähle 1, 2 oder 3:3\n",
            "Der alte Mann sagt: Nimm mich als Komplizen und ich werde dir weiter helfen.\n",
            "Du nimmst seinen Vorschlag an und kommst so sicher ans Ziel.\n",
            "Nachdem du den alten Mann als Komplizen angenommen hast, spürst du sofort eine Welle des Vertrauens.\n",
            "Er lächelt weise und führt dich durch einen geheimen Pfad, der von dichten Bäumen gesäumt ist.\n",
            "„Dieser Weg ist sicher, aber wir müssen leise sein“, flüstert er.\n",
            "\n",
            "Während ihr geht, erzählt er dir von den Herausforderungen, die vor euch liegen.\n",
            "„Es gibt Wächter, die diesen Ort beschützen. Sie sind nicht leicht zu überlisten, aber ich kenne einige Tricks“, sagt er und zwinkert dir zu.\n",
            "\n",
            "Plötzlich hört ihr ein Geräusch. Der alte Mann zieht dich hinter einen Baum und sagt:\n",
            "„Bleib ruhig. Wir müssen abwarten, bis die Wächter vorbeigehen.“\n",
            "Du spürst das Adrenalin in deinen Adern, während ihr beide in der Dunkelheit lauert.\n",
            "\n",
            "Nachdem die Wächter vorbeigezogen sind, führt dich der alte Mann weiter.\n",
            "„Wir sind fast da“, sagt er. „Aber bevor wir das Ziel erreichen, musst du eine Entscheidung treffen.\n",
            "Es gibt zwei Wege: Der eine führt direkt zum Schatz, aber er ist voller Gefahren.\n",
            "Der andere ist sicherer, aber er könnte länger dauern.“\n",
            "Wähle deinen Weg (1 für den riskanten Weg, 2 für den sicheren Weg): 2\n",
            "\n",
            "Du hast den sicheren Weg gewählt!\n",
            "Ihr geht langsam und vorsichtig weiter. Der alte Mann zeigt dir einige versteckte Pfade.\n",
            "Nach einer Weile erreicht ihr einen geheimen Ort, wo ihr euch ausruhen könnt.\n"
          ]
        }
      ]
    }
  ]
}