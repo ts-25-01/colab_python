{
  "cells": [
    {
      "cell_type": "markdown",
      "metadata": {
        "id": "view-in-github",
        "colab_type": "text"
      },
      "source": [
        "<a href=\"https://colab.research.google.com/github/ts-25-01/colab_python/blob/main/Python_Grundlagen_mit_Story_und_Module.ipynb\" target=\"_parent\"><img src=\"https://colab.research.google.com/assets/colab-badge.svg\" alt=\"Open In Colab\"/></a>"
      ]
    },
    {
      "cell_type": "markdown",
      "metadata": {
        "id": "SKNf1wgYMpls"
      },
      "source": [
        "# 🏙️ Einführung in Python mit einer kleinen Geschichte\n",
        "\n",
        "Willkommen zu deiner **Python-Reise**! 🚀\n",
        "Du bist ein junger Entdecker und erkundest eine geheimnisvolle Stadt.\n",
        "Auf deinem Weg lernst du wichtige **Python-Grundlagen**. Jede Übung bringt dich weiter! 🎯\n",
        "\n",
        "### 🔹 Was wirst du lernen?\n",
        "1. **Konstanten & Variablen** 🏗️\n",
        "2. **Datentypen & Datenstrukturen** 📦\n",
        "3. **Funktionen für Datenstrukturen** 🔧\n",
        "4. **Input & Output (`input()`, `print()`, `f-strings`)** 🔤\n",
        "5. **Funktionen definieren (`def`)** 🛠️\n",
        "6. **Kontrollstrukturen (`if-else`, `match-case`)** 🧩\n",
        "7. **Schleifen (`for`, `while`, `break`)** 🔄\n",
        "\n",
        "Lass uns beginnen! 🚀"
      ]
    },
    {
      "cell_type": "markdown",
      "metadata": {
        "id": "SwxI1hNHMplu"
      },
      "source": [
        "## 🏗️ 1. Konstanten & Variablen\n",
        "In der Stadt angekommen, brauchst du einen **Namen** und ein **Alter**.\n",
        "Speichere deine Daten in Variablen."
      ]
    },
    {
      "cell_type": "code",
      "metadata": {
        "colab": {
          "base_uri": "https://localhost:8080/"
        },
        "id": "wFK069h7Mplu",
        "outputId": "bd6b7cae-b6be-41b3-bc88-965815d2063c"
      },
      "source": [
        "# Konstante, also ein nicht veränderlicher Wert\n",
        "OPERATING_SYSTEM = \"Windows\"\n",
        "PI = 3.14\n",
        "\n",
        "# Variable erstellen\n",
        "name = input(\"Wie heißt du? \")\n",
        "alter = int(input(\"Wie alt bist du?(Bitte eine Zahl eingeben) \"))\n",
        "\n",
        "# Ausgabe mit f-String\n",
        "print(f\"Hallo {name}, willkommen in der geheimnisvollen Stadt! Du bist {alter} Jahre alt.\")"
      ],
      "execution_count": 10,
      "outputs": [
        {
          "output_type": "stream",
          "name": "stdout",
          "text": [
            "Wie heißt du? helen\n",
            "Wie alt bist du?(Bitte eine Zahl eingeben) 27.5\n",
            "Hallo helen, willkommen in der geheimnisvollen Stadt! Du bist 27.5 Jahre alt.\n"
          ]
        }
      ]
    },
    {
      "cell_type": "markdown",
      "source": [
        "### Aufgabe 1a:\n",
        "\n",
        "\n",
        "1.   Wie funktioniert die input-Funktion? Wo speichern wir den User-Input?\n",
        "2.   Welchen Datentyp hat name?\n",
        "3.   Was macht das `int` vor der input-Funktion für alter?\n",
        "4.   Wie können wir in print-Ausgaben auf Variablen zugreifen? Wie sieht die Syntax aus?\n",
        "\n"
      ],
      "metadata": {
        "id": "rT_hgFD-M5dz"
      }
    },
    {
      "cell_type": "markdown",
      "source": [
        "1. Es wird ein Eingabefenster aufgemacht, da darf der User was eingeben, die Eingabe wird dann als Wert (String) in der Variablen gespeichert\n",
        "```python\n",
        "variable = input(\"Gib was ein: \")\n",
        "```\n",
        "Dann wird ein Eingabefenster mit \"Gib was ein: \" aufgemacht beim Ausführen des Codes und das Eingegebene in `variable`gespeichert\n",
        "2. Den Datentyp String, da die Eingabe als Zeichenfolge gespeichert wird. **Achtung** Wenn wir Zahlen eingeben wollen, nutz die Typecasting-Funktion, wie z.B. int(input(\"...\"))\n",
        "3. siehe 2.\n",
        "4. Mithilfe von f-Strings\n",
        "```python\n",
        "variable = \"inhalt\"\n",
        "print(f\"Das ist die Variable {variable}\")\n",
        "```\n"
      ],
      "metadata": {
        "id": "SfWzuFbUcBYv"
      }
    },
    {
      "cell_type": "markdown",
      "source": [
        "### Aufgabe 1b:\n",
        "Definiere 2 Variablen `kurs` und `thema` und gib entsprechend aus, in welchen Kurs sich der User befindet und welches Thema aktuell dran ist."
      ],
      "metadata": {
        "id": "2zq-30fSNxeA"
      }
    },
    {
      "cell_type": "code",
      "source": [
        "# Variable wird auf einen Wert gesetzt\n",
        "kurs = \"Informatik\"\n",
        "thema = \"Python\"\n",
        "print(f\"Der Kurs ist {kurs}, das aktuelle Thema ist {thema}\")\n",
        "print(f\"Der Kurs ist {kurs}\")"
      ],
      "metadata": {
        "colab": {
          "base_uri": "https://localhost:8080/"
        },
        "id": "58WB5GRBNtZS",
        "outputId": "3834de22-d141-4b8f-b777-ad9947b4804d"
      },
      "execution_count": 8,
      "outputs": [
        {
          "output_type": "stream",
          "name": "stdout",
          "text": [
            "Der Kurs ist Informatik, das aktuelle Thema ist Python\n",
            "Der Kurs ist Informatik\n"
          ]
        }
      ]
    },
    {
      "cell_type": "code",
      "source": [
        "# Variable wird durch einen User-Input gefüllt\n",
        "kurs = input(\"An welchen Kurs nimmst du teil? \")\n",
        "thema = input(\"Welches Thema wird gerade behandelt? \")\n",
        "print(f\"Der Kurs ist {kurs}, das aktuelle Thema ist {thema}\")"
      ],
      "metadata": {
        "colab": {
          "base_uri": "https://localhost:8080/"
        },
        "id": "WywHT2xqvfDW",
        "outputId": "773ac657-01c0-49a3-fdfc-218a1bbfafac"
      },
      "execution_count": 11,
      "outputs": [
        {
          "output_type": "stream",
          "name": "stdout",
          "text": [
            "An welchen Kurs nimmst du teil? test\n",
            "Welches Thema wird gerade behandelt? test\n",
            "Der Kurs ist test, das aktuelle Thema ist test\n"
          ]
        }
      ]
    },
    {
      "cell_type": "markdown",
      "metadata": {
        "id": "-ouEZfdHMplv"
      },
      "source": [
        "## 📦 2. Datentypen & Datenstrukturen\n",
        "Du findest eine Liste mit Items, die dir helfen könnten.\n",
        "Aber nicht alle sind nützlich!"
      ]
    },
    {
      "cell_type": "markdown",
      "metadata": {
        "id": "UMaq9NcXMplv"
      },
      "source": [
        "### 📦 2.1 Module und `import`\n",
        "Python bietet viele nützliche **Module**. Diese sind vorgefertigte Bibliotheken, die du einfach **importieren** kannst.\n",
        "\n",
        "Eines der wichtigsten Module ist `random`, mit dem du **Zufallszahlen** generieren kannst.\n",
        "Das ist besonders hilfreich für Spiele, Simulationen oder sichere Passwörter! 🔢"
      ]
    },
    {
      "cell_type": "code",
      "metadata": {
        "colab": {
          "base_uri": "https://localhost:8080/"
        },
        "id": "taxFuvtpMplv",
        "outputId": "1bea8151-073f-47b6-c44b-a70bd75d25a9"
      },
      "source": [
        "# Import des Moduls random\n",
        "import random\n",
        "\n",
        "# Zufällige Zahl zwischen 1 und 10 generieren\n",
        "# print(random.randint(1,4))\n",
        "zufallszahl = random.randint(1, 10)\n",
        "#zufallszahl2 = random.randrange(1,10)\n",
        "\n",
        "print(f\"🎲 Zufällige Zahl: {zufallszahl}\")"
      ],
      "execution_count": 13,
      "outputs": [
        {
          "output_type": "stream",
          "name": "stdout",
          "text": [
            "4\n",
            "🎲 Zufällige Zahl: 8\n"
          ]
        }
      ]
    },
    {
      "cell_type": "markdown",
      "source": [
        "#### Aufgabe 2.1a\n",
        "1. Recherchiere nach Modulen. Warum wollen wir Module einbinden?\n",
        "2. Was macht das random-Modul?\n",
        "3. Gibt es andere coole Module?\n",
        "- **flask**: Für Backend/APIs, die wir bauen wollen --> Webanwendungen\n",
        "- **pytz**: Für Timezones\n",
        "- **math**: Für mathematische Funktionen, wie z.B. Wurzelberechnungen, Cosinus, Sinus\n",
        "- **numpy**: Für Matrizenberechnungen z.B.\n",
        "- **pygame**: Für Spiele-Entwicklung\n",
        "\n",
        "**Achtung**: Bei den meisten Modulen müssen wir diese erst mithilfe des Paketverwaltungstools `pip`installieren\n",
        "```bash\n",
        "pip install flask\n",
        "```\n"
      ],
      "metadata": {
        "id": "BDse4fcsNYxk"
      }
    },
    {
      "cell_type": "markdown",
      "source": [],
      "metadata": {
        "id": "vcFVs96RcCdE"
      }
    },
    {
      "cell_type": "markdown",
      "source": [
        "#### Aufgabe 2.1b\n",
        "Implementiere eine Variable `time`, in der du das aktuelle Datum und die Uhrzeit speicherst. Dazu importierst du das Paket `datetime`. Gib außerdem den Wert der Variablen aus."
      ],
      "metadata": {
        "id": "isK4exEJOESa"
      }
    },
    {
      "cell_type": "code",
      "source": [
        "# importiere das Modul datetime\n",
        "import datetime\n",
        "import pytz\n",
        "\n",
        "# setze timezone auf Berlin\n",
        "tz = pytz.timezone('Europe/Berlin')\n",
        "\n",
        "# speichere Datum und Uhrzeit, nutze dabei die richtige Timezone\n",
        "time = datetime.datetime.now(tz)\n",
        "\n",
        "\n",
        "print(time.strftime(\"%Y-%m-%d %H:%M:%S\"))"
      ],
      "metadata": {
        "colab": {
          "base_uri": "https://localhost:8080/"
        },
        "id": "fKW10JCROuAA",
        "outputId": "5f599016-33d9-4d78-f899-df7e39185b8d"
      },
      "execution_count": 58,
      "outputs": [
        {
          "output_type": "stream",
          "name": "stdout",
          "text": [
            "2025-02-13 11:45:53\n"
          ]
        }
      ]
    },
    {
      "cell_type": "markdown",
      "metadata": {
        "id": "t4AkuUU4Mplv"
      },
      "source": [
        "### 🎯 Übung\n",
        "1. Schreibe eine Funktion `münzwurf()`, die `random.choice([\"Kopf\", \"Zahl\"])` nutzt.\n",
        "2. Erstelle eine **Liste** mit 5 Namen und lasse `random.choice()` einen zufälligen Namen auswählen."
      ]
    },
    {
      "cell_type": "code",
      "source": [
        "# importiere das random Modul\n",
        "import random\n",
        "\n",
        "münz_liste = [\"Kopf\", \"Zahl\", \"Kante\", \"Brunnen\", \"Drachen\"]\n",
        "zahlen_liste = [1,2,3,4,5,6,10,12,13]\n",
        "namens_liste = [\"Zito\", \"Theo\", \"Thor\", \"Helen\"]\n",
        "# Definiere Funktion münzwurf\n",
        "def münzwurf(liste):\n",
        "  return random.choice(liste)\n",
        "\n",
        "# Funktion aufrufen\n",
        "print(f\"Die Ausgabe ist {münzwurf(münz_liste)}\")\n",
        "print(münzwurf(zahlen_liste))\n",
        "print(münzwurf(namens_liste))\n",
        "\n",
        "\n"
      ],
      "metadata": {
        "colab": {
          "base_uri": "https://localhost:8080/"
        },
        "id": "-m6gibvRN_oF",
        "outputId": "60a9a9d3-d73e-40a8-b159-3fa1f804b580"
      },
      "execution_count": 50,
      "outputs": [
        {
          "output_type": "stream",
          "name": "stdout",
          "text": [
            "Die Ausgabe ist Kante\n",
            "3\n",
            "Thor\n"
          ]
        }
      ]
    },
    {
      "cell_type": "code",
      "source": [
        "# importieren das random Modul\n",
        "import random\n",
        "\n",
        "# definiere Variable, also die liste\n",
        "namens_liste = [\"Zito\", \"Theo\", \"Thor\", \"Helen\"]\n",
        "zufälliger_name = random.choice(namens_liste)\n",
        "namens_liste2 = [\"Najat\", \"Mirko\", \"Olga\", \"Tim\"]\n",
        "zweiten_zufälligen_namen = random.choice(namens_liste2)\n",
        "print(zufälliger_name)\n",
        "print(zweiten_zufälligen_namen)\n"
      ],
      "metadata": {
        "colab": {
          "base_uri": "https://localhost:8080/"
        },
        "id": "wZMwrno2z4JH",
        "outputId": "3e0da19c-547e-4bcb-e470-e3d48d776893"
      },
      "execution_count": 51,
      "outputs": [
        {
          "output_type": "stream",
          "name": "stdout",
          "text": [
            "Helen\n",
            "Olga\n"
          ]
        }
      ]
    },
    {
      "cell_type": "markdown",
      "source": [
        "## 3. Datenstrukturen"
      ],
      "metadata": {
        "id": "bm3RHQGjOu0E"
      }
    },
    {
      "cell_type": "code",
      "metadata": {
        "colab": {
          "base_uri": "https://localhost:8080/"
        },
        "id": "PwlB2iRCMplv",
        "outputId": "996a07a8-997b-4c34-8b0d-bec7d5eacaa8"
      },
      "source": [
        "# Verschiedene Datentypen\n",
        "lebenspunkte = 100  # Ganzzahl (int)\n",
        "gold = 12.5  # Kommazahl (float)\n",
        "stadt_name = \"Mystica\"  # Zeichenkette (string)\n",
        "magisch = True  # Wahrheitswert (bool)\n",
        "\n",
        "# Liste mit Items\n",
        "rucksack = [\"Seil\", \"Taschenlampe\", \"Goldmünze\", \"Apfel\"]\n",
        "# Liste mit Namen\n",
        "namens_liste = [\"Mateusz\", \"Jonas\", \"Nic\", \"Benjamin\"]\n",
        "# Liste mit Zahlen\n",
        "zahlen_liste = [1,5,2,8,9]\n",
        "\n",
        "# Wie kann ich Elemente zu Listen hinzufügen?\n",
        "namens_liste.append(\"Mirko\")\n",
        "print(namens_liste)\n",
        "\n",
        "namens_liste.remove(\"Benjamin\")\n",
        "print(namens_liste)\n",
        "\n",
        "namens_liste.pop()\n",
        "print(namens_liste)\n",
        "\n",
        "namens_liste.append(\"Theo\")\n",
        "print(namens_liste)\n",
        "\n",
        "namens_liste.pop()\n",
        "print(namens_liste)\n",
        "\n",
        "# Dictionary für Inventar mit Mengen\n",
        "inventar = {\n",
        "    \"Goldmünze\": 3,\n",
        "    \"Schlüssel\": 1,\n",
        "    \"Zaubertrank\": 2\n",
        "    }\n",
        "# Dictionary für meinen Charakter\n",
        "character = {\n",
        "    \"name\": \"helen\",\n",
        "    \"klasse\": \"krieger\",\n",
        "    \"HP\": 35,\n",
        "    \"Gold\": 55.5\n",
        "    }\n",
        "print(f\"Mein ursprünglicher Charakter: {character}\")\n",
        "character[\"name\"] = \"Hanno\"\n",
        "print(f\"Nach der Veränderung dann: {character}\")\n",
        "character[\"klasse\"] = \"Magier\"\n",
        "print(character)\n",
        "\n",
        "# Aufgabe: Füge ein neues Item hinzu\n",
        "rucksack.append(\"Kompass\")  # Neues Item\n",
        "print(\"🎒 Dein Rucksack:\", rucksack)"
      ],
      "execution_count": 66,
      "outputs": [
        {
          "output_type": "stream",
          "name": "stdout",
          "text": [
            "['Mateusz', 'Jonas', 'Nic', 'Benjamin', 'Mirko']\n",
            "['Mateusz', 'Jonas', 'Nic', 'Mirko']\n",
            "['Mateusz', 'Jonas', 'Nic']\n",
            "['Mateusz', 'Jonas', 'Nic', 'Theo']\n",
            "['Mateusz', 'Jonas', 'Nic']\n",
            "Mein ursprünglicher Charakter: {'name': 'helen', 'klasse': 'krieger', 'HP': 35, 'Gold': 55.5}\n",
            "Nach der Veränderung dann: {'name': 'Hanno', 'klasse': 'krieger', 'HP': 35, 'Gold': 55.5}\n",
            "{'name': 'Hanno', 'klasse': 'Magier', 'HP': 35, 'Gold': 55.5}\n",
            "🎒 Dein Rucksack: ['Seil', 'Taschenlampe', 'Goldmünze', 'Apfel', 'Kompass']\n"
          ]
        }
      ]
    },
    {
      "cell_type": "markdown",
      "source": [
        "### Aufgabe 3a\n",
        "1. Welche weiteren Datenstrukturen kennst du?\n",
        "2. Definiere wann ich am besten welche Datenstruktur verwende"
      ],
      "metadata": {
        "id": "FxAN9a4JO33X"
      }
    },
    {
      "cell_type": "markdown",
      "source": [],
      "metadata": {
        "id": "y9BTMH_XcDxs"
      }
    },
    {
      "cell_type": "markdown",
      "source": [
        "### Aufgabe 3b\n",
        "- Erstelle eine Liste namens gerichte, die mindestens 3 verschiedene Gerichte enthält.\n",
        "- Erstelle ein Dictionary namens lieblingsessen, das als Schlüssel verschiedene Namen enthält und als Wert das jeweilige Lieblingsgericht aus der Liste.\n",
        "- Gib die gesamte Liste und das Dictionary aus.\n",
        "- Greife explizit auf das Lieblingsessen einer bestimmten Person zu und gib es aus."
      ],
      "metadata": {
        "id": "KFneAjbYO_A0"
      }
    },
    {
      "cell_type": "code",
      "source": [],
      "metadata": {
        "id": "Ix72w-CkPaah"
      },
      "execution_count": null,
      "outputs": []
    },
    {
      "cell_type": "markdown",
      "metadata": {
        "id": "sni0afcAMplv"
      },
      "source": [
        "## 🔧 3.1 Funktionen für Datenstrukturen\n",
        "In einer dunklen Gasse findest du einen Händler.\n",
        "Er verkauft dir ein Item – entferne ein altes!"
      ]
    },
    {
      "cell_type": "code",
      "metadata": {
        "id": "VvNCfleAMplv"
      },
      "source": [
        "# Ein Item aus dem Rucksack entfernen\n",
        "rucksack.remove(\"Apfel\")  # Item entfernen\n",
        "print(\"🎒 Dein neuer Rucksack:\", rucksack)"
      ],
      "execution_count": null,
      "outputs": []
    },
    {
      "cell_type": "markdown",
      "source": [
        "#### Aufgabe 3.1a: Ein neues Gericht hinzufügen\n",
        "Du hast ein neues Lieblingsgericht entdeckt! Füge es zur Liste `gerichte` hinzu."
      ],
      "metadata": {
        "id": "OCCHY4ZMPrPI"
      }
    },
    {
      "cell_type": "code",
      "source": [],
      "metadata": {
        "id": "daIxkaPcP3fW"
      },
      "execution_count": null,
      "outputs": []
    },
    {
      "cell_type": "markdown",
      "source": [
        "#### Aufgabe 3.1b: Ein Gericht ersetzen\n",
        "Dein Geschmack hat sich geändert! Ersetze ein altes Gericht durch ein neues in der Liste `gerichte`."
      ],
      "metadata": {
        "id": "QD3piaxRP37P"
      }
    },
    {
      "cell_type": "code",
      "source": [],
      "metadata": {
        "id": "gfuxneuTQD-Y"
      },
      "execution_count": null,
      "outputs": []
    },
    {
      "cell_type": "markdown",
      "source": [
        "#### Aufgabe 3.1c: Prüfen, ob ein Gericht existiert\n",
        "Prüfe, ob dein Lieblingsgericht in der Liste ist."
      ],
      "metadata": {
        "id": "dLSzfQFWQEMl"
      }
    },
    {
      "cell_type": "code",
      "source": [],
      "metadata": {
        "id": "kljhh3BbQJMp"
      },
      "execution_count": null,
      "outputs": []
    },
    {
      "cell_type": "markdown",
      "source": [
        "#### Aufgabe 3.1d: Das teuerste Gericht finden\n",
        "Ein Restaurant hat eine Speisekarte mit Preisen. Finde das teuerste Gericht!\n",
        "```markdown\n",
        "Pizza: 8 Euro\n",
        "Spaghetti: 10 Euro\n",
        "Sushi: 15 Euro\n",
        "Salat: 6 Euro\n",
        "```\n",
        "Was brauchen wir hier also für eine Datenstruktur?"
      ],
      "metadata": {
        "id": "WQbz3bYTQJT9"
      }
    },
    {
      "cell_type": "code",
      "source": [],
      "metadata": {
        "id": "BZQ3IZhrQfsL"
      },
      "execution_count": null,
      "outputs": []
    },
    {
      "cell_type": "markdown",
      "source": [
        "#### Aufgabe 3.1e: Lieblingsgericht sortieren\n",
        "Deine Liste `gerichte`ist unordentlich! Sortiere sie alphabetisch."
      ],
      "metadata": {
        "id": "e2fDOR6iQf1P"
      }
    },
    {
      "cell_type": "code",
      "source": [],
      "metadata": {
        "id": "PSwF-LZwQnxE"
      },
      "execution_count": null,
      "outputs": []
    },
    {
      "cell_type": "markdown",
      "source": [
        "#### Aufgabe 3.1f: Preis verändern\n",
        "Die Zubereitungskosten für eine Pizza haben sich erhöht. Ändere den Preis von einer Pizza auf 10 Euro."
      ],
      "metadata": {
        "id": "gVVr3LuNQn27"
      }
    },
    {
      "cell_type": "code",
      "source": [],
      "metadata": {
        "id": "BURl6HuxQzo3"
      },
      "execution_count": null,
      "outputs": []
    },
    {
      "cell_type": "markdown",
      "source": [
        "1. Welche Unterschiede gibt es zwischen einer Liste und einem Dictionary?\n",
        "2. Welche Methoden gibt es, um Elemente aus einer Liste zu entfernen? Wie greife ich jeweils auf sie zu?\n",
        "3. Wann ist set() sinnvoller als eine Liste?\n",
        "4. Wie kann man überprüfen, ob ein Schlüssel in einem Dictionary existiert?\n",
        "5. Warum verwendet man max(dictionary, key=dictionary.get) für den höchsten Wert?\n",
        "6. Wie unterscheidet sich sort() von sorted()?\n",
        "7. Warum sollte man bei Dictionaries get() statt [] verwenden, wenn man sichergehen will, dass kein Fehler auftritt?"
      ],
      "metadata": {
        "id": "8UNT6jkWQ09P"
      }
    },
    {
      "cell_type": "markdown",
      "source": [],
      "metadata": {
        "id": "CdF6uBoBcFee"
      }
    },
    {
      "cell_type": "markdown",
      "metadata": {
        "id": "j4qayZS8Mplw"
      },
      "source": [
        "## 🔤 4. Eingabe & Ausgabe (`input()`, `print()`, `f-strings`)\n",
        "Du stehst vor einer verschlossenen Tür.\n",
        "Ein alter Mann fragt nach dem **Namen der Stadt**..."
      ]
    },
    {
      "cell_type": "code",
      "metadata": {
        "id": "tMrxWg3mMplw"
      },
      "source": [
        "# Stadt eingeben\n",
        "stadt = input(\"Wie heißt die Stadt? \")\n",
        "\n",
        "# Bedingung prüfen\n",
        "if stadt.lower() == \"mystica\":\n",
        "    print(\"✅ Die Tür öffnet sich!\")\n",
        "else:\n",
        "    print(\"❌ Falsche Antwort! Die Tür bleibt verschlossen.\")"
      ],
      "execution_count": null,
      "outputs": []
    },
    {
      "cell_type": "markdown",
      "source": [
        "### Aufgabe 4a: Das magische Rezept:\n",
        "Ein Koch gibt dir eine geheime Zutat für ein magisches Rezept. Du musst ihm sagen, welche Zutat du hinzufügen möchtest. Wenn die Zutat auf seiner Liste steht, gibt er dir das komplette Rezept!"
      ],
      "metadata": {
        "id": "ox1XYWeMRdo0"
      }
    },
    {
      "cell_type": "code",
      "source": [],
      "metadata": {
        "id": "JMAnKsHjRsyA"
      },
      "execution_count": null,
      "outputs": []
    },
    {
      "cell_type": "markdown",
      "source": [
        "### Aufgabe 4b: Fragen\n",
        "1. Wofür wird input() verwendet?\n",
        "2. Warum ist es sinnvoll, Eingaben mit .lower() oder .strip() zu verarbeiten?\n",
        "3. Was passiert, wenn du versuchst, input() in einer Zahl zu speichern, aber der Benutzer einen Text eingibt?\n",
        "4. Wie kannst du mehrere gültige Antworten in einer Bedingung abfragen (z. B. \"ja\" oder \"Ja\" akzeptieren)?\n",
        "5. Was ist der Unterschied zwischen print(\"Hallo\" + name) und print(f\"Hallo {name}\")?\n",
        "6. Warum ist in praktisch, wenn man prüfen möchte, ob eine Eingabe in einer Liste enthalten ist?\n",
        "7. Wie kann man eine Schleife verwenden, um den Benutzer so lange nach einer gültigen Antwort zu fragen, bis sie korrekt ist?"
      ],
      "metadata": {
        "id": "uevw8PzZRs5R"
      }
    },
    {
      "cell_type": "markdown",
      "source": [],
      "metadata": {
        "id": "B8GJDW9ScGuE"
      }
    },
    {
      "cell_type": "markdown",
      "metadata": {
        "id": "JQmick91Mplw"
      },
      "source": [
        "## 🛠️ 5. Funktionen definieren\n",
        "Du lernst einen Zauber, um eine magische Rune zu aktivieren!\n",
        "Schreibe eine Funktion, die eine Rune leuchten lässt."
      ]
    },
    {
      "cell_type": "code",
      "metadata": {
        "id": "ffTY9hPEMplw"
      },
      "source": [
        "def rune_aktivieren():\n",
        "    print(\"✨ Die Rune beginnt zu leuchten! ✨\")\n",
        "\n",
        "# Funktion aufrufen\n",
        "rune_aktivieren()"
      ],
      "execution_count": null,
      "outputs": []
    },
    {
      "cell_type": "markdown",
      "source": [
        "### Aufgabe 5a: Der magische Trank\n",
        "Ein Alchemist bittet dich, einen magischen Trank zu brauen. Schreibe eine Funktion, die eine bestimmte Zutat hinzufügt und den Trank verstärkt."
      ],
      "metadata": {
        "id": "Rpywl5P4R01c"
      }
    },
    {
      "cell_type": "code",
      "source": [],
      "metadata": {
        "id": "gENWb33wSBct"
      },
      "execution_count": null,
      "outputs": []
    },
    {
      "cell_type": "markdown",
      "source": [
        "### Aufgabe 5b:\n",
        "1. Was ist der Vorteil, eine Funktion zu definieren, anstatt den Code direkt zu schreiben?\n",
        "2. Was passiert, wenn du eine Funktion aufrufst, aber keinen Wert für ihren Parameter übergibst?\n",
        "3. Was ist der Unterschied zwischen einer Funktion ohne Parameter und einer mit Parametern?\n",
        "4. Wie kannst du eine Funktion so definieren, dass sie mehrere Parameter akzeptiert?\n",
        "5. Was passiert, wenn du return anstelle von print() verwendest?\n",
        "6. Wie kannst du eine Funktion wiederverwenden, um redundanten Code zu vermeiden?\n",
        "7. Wie kannst du Standardwerte für Parameter in einer Funktion setzen? (z. B. def trank_brauen(zutat=\"Wasser\"))\n",
        "8. Warum ist es sinnvoll, eine Funktion zuerst zu definieren, bevor sie aufgerufen wird?\n",
        "9. Was passiert, wenn du eine Funktion definierst, aber sie nie aufrufst?\n",
        "10. Wie könntest du eine Funktion schreiben, die mehrere Zutaten auf einmal entgegennimmt?"
      ],
      "metadata": {
        "id": "Xoqp0QwXSBlV"
      }
    },
    {
      "cell_type": "markdown",
      "source": [],
      "metadata": {
        "id": "T3eBm5XkcHVo"
      }
    },
    {
      "cell_type": "markdown",
      "metadata": {
        "id": "NzIQYlgAMplw"
      },
      "source": [
        "## 🧩 6. Kontrollstrukturen (`if-else`, `match-case`)\n",
        "Du stehst an einer Kreuzung. Wohin gehst du?"
      ]
    },
    {
      "cell_type": "code",
      "metadata": {
        "id": "ABNHXLpuMplw"
      },
      "source": [
        "richtung = input(\"Gehst du (links, rechts, geradeaus)? \")\n",
        "\n",
        "if richtung == \"links\":\n",
        "    print(\"Du findest eine alte Bibliothek.\")\n",
        "elif richtung == \"rechts\":\n",
        "    print(\"Du triffst einen Zauberer.\")\n",
        "else:\n",
        "    print(\"Ein Monster taucht auf!\")"
      ],
      "execution_count": null,
      "outputs": []
    },
    {
      "cell_type": "markdown",
      "source": [
        "### Aufgabe 6a: Der magische Koche\n",
        "Du bist in einer magischen Küche und entscheidest, was du kochen möchtest. Je nach Auswahl erhältst du eine besondere Zubereitung.\n",
        "```markdown\n",
        "1. Frag den User nach einer Essensauswahl (Suppe, Kuchen oder Trank) und speichere die Eingabe in eine Variable\n",
        "2. Überprüfe die Variable auf ihren Inhalt und gib entsprechend z.B. aus:\n",
        "- Suppe: \"🥣 Du kochst eine wärmende Zaubersuppe!\"\n",
        "- Kuchen: 🎂 Dein Kuchen glitzert magisch!\"\n",
        "- Trank: \"🧪 Dein Trank beginnt zu leuchten!\"\n",
        "```\n",
        "**Bonus**: Verwede ein `match-case` für die if-else-Struktur"
      ],
      "metadata": {
        "id": "HTZeMMc1SXGa"
      }
    },
    {
      "cell_type": "code",
      "source": [],
      "metadata": {
        "id": "WaQadDV4S5Rt"
      },
      "execution_count": null,
      "outputs": []
    },
    {
      "cell_type": "markdown",
      "source": [
        "### Aufgabe 6b: Fragen\n",
        "1. Wann benutzt man if-elif-else und wann match-case?\n",
        "2. Was passiert, wenn kein else oder case _ definiert ist und die Eingabe nicht passt?\n",
        "3. Warum nutzen wir lower() für die Eingabe?\n",
        "4. Wie könnte man weitere Optionen hinzufügen (z. B. \"Pizza\" oder \"Salat\")?\n",
        "5. Was ist der Unterschied zwischen == (Vergleichsoperator) und = (Zuweisung)?\n",
        "6. Wie könnte man eine while-Schleife verwenden, um den Benutzer so lange zu fragen, bis er eine gültige Eingabe macht?\n",
        "7. Gibt es Situationen, in denen match-case nicht sinnvoll ist?\n",
        "8. Wie könnte man elif oder match-case mit Zahlen anstatt Strings verwenden?\n",
        "9. Warum ist else: oder case _: wichtig, wenn man mit Benutzereingaben arbeitet?\n",
        "10. Wie könnte man eine Funktion schreiben, die basierend auf der Benutzereingabe das passende Essen aus einer Liste zurückgibt?"
      ],
      "metadata": {
        "id": "qmCpMYE0S5YU"
      }
    },
    {
      "cell_type": "markdown",
      "source": [],
      "metadata": {
        "id": "yAGioX1GcIKl"
      }
    },
    {
      "cell_type": "markdown",
      "metadata": {
        "id": "i6ZSY6JNMplw"
      },
      "source": [
        "## 🔄 7. Schleifen (`for`, `while`, `break`)\n",
        "Du musst eine geheime Treppe mit **5 Stufen** hinaufsteigen..."
      ]
    },
    {
      "cell_type": "code",
      "metadata": {
        "id": "bzNzCSoYMplw"
      },
      "source": [
        "# Eine for-Schleife, um Stufen zu zählen\n",
        "for stufe in range(1, 6):\n",
        "    print(f\"🏛️ Stufe {stufe} erklommen!\")"
      ],
      "execution_count": null,
      "outputs": []
    },
    {
      "cell_type": "markdown",
      "source": [
        "### Aufgabe 7a: Der magische Topf\n",
        "Ein magischer Topf kann genau 5 Zutaten aufnehmen. Füge eine Zutat nach der anderen hinzu und gib den aktuellen Status des Topfes aus.\n",
        "```markdown\n",
        "1. Definiere eine leere Liste mit dem Namen `zutaten``\n",
        "2. Iteriere 5 mal und lasse den User jedes Mal eine Zutat eingeben, die du dann in der Liste hinzufügst mit `append`.\n",
        "3. Gib die Liste am Ende aus.\n",
        "```\n",
        "**Bonus**: Mache eine Bedingung rein, dass wenn man fertig hinzufügt, die Schleife unterbrochen wird. Verwende hier alternativ eine while-Schleife."
      ],
      "metadata": {
        "id": "FKKiXghjTMJf"
      }
    },
    {
      "cell_type": "code",
      "source": [],
      "metadata": {
        "id": "b-nBR1syTqrk"
      },
      "execution_count": null,
      "outputs": []
    },
    {
      "cell_type": "markdown",
      "source": [
        "### Aufgabe 7b: Fragen\n",
        "1. Was ist der Unterschied zwischen einer for-Schleife und einer while-Schleife?\n",
        "2. Wann ist es sinnvoll, break in einer Schleife zu verwenden?\n",
        "3. Wie könnte man eine Schleife so schreiben, dass sie nie endet? (Gefahr einer Endlosschleife!)\n",
        "4. Wie könnte man die for-Schleife so ändern, dass der Benutzer die Anzahl der Durchläufe bestimmt?\n",
        "5. Wie könnte man verhindern, dass ein Benutzer eine leere Zutat hinzufügt?\n",
        "6. Wie könnte man continue nutzen, um eine bestimmte Zutat abzulehnen?\n",
        "7. Was passiert, wenn man range(1, 6) durch range(6) ersetzt?\n",
        "8. Wie könnte man nach jeder Zutat eine zufällige magische Wirkung ausgeben lassen?\n",
        "9. Warum sollte man eine while-Schleife mit einer Bedingung absichern?\n",
        "10. Wie könnte man eine Schleife so anpassen, dass der Benutzer nur einzigartige Zutaten hinzufügen darf?"
      ],
      "metadata": {
        "id": "-KPTgNeXTqws"
      }
    },
    {
      "cell_type": "markdown",
      "source": [],
      "metadata": {
        "id": "jo3gDE6acJUo"
      }
    }
  ],
  "metadata": {
    "colab": {
      "provenance": [],
      "toc_visible": true,
      "include_colab_link": true
    },
    "kernelspec": {
      "display_name": "Python 3",
      "language": "python",
      "name": "python3"
    }
  },
  "nbformat": 4,
  "nbformat_minor": 0
}